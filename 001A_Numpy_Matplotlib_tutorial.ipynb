{
 "cells": [
  {
   "cell_type": "markdown",
   "id": "27e8de8b",
   "metadata": {},
   "source": [
    "# สอน Numpy สำหรับเด็กภูมิศาสตร์\n",
    "* Numpy  https://numpy.org/ เป็นไลบราลี่หลักที่ใช้ในด้านการคำนวณของภาษาไพธอน สามารถจัดการข้อมูลอาเรย์หลายมิติได้ ซึ่งนิสิตภูมิศาสตร์อาจไม่คุ้นเคยกับอาเรย์หรือแมทริกซ์ ในติวเตอร์เรียลนี้เราจะมาเรียนแบบค่อยเป็นค่อยไป ให้นิสิตพิมพ์ตามใน notebook ของตนเอง แล้วสังเกตุถึงผลที่ได้หลังจากรัน shift+enter\n",
    "\n",
    "* นักภูมิศาสตร์ที่สนใจทางด้านข้อมูลกายภาพที่เก็บข้อมูลเป็นแบบต่อเนื่องในลักษณะกริด จะสามารถนำ Numpy ไปใช้ประโยชน์ได้อย่างมาก เช่น ข้อมูลภาพดาวเทียม ข้อมูลภูมิอากาศจากแบบจำลอง ข้อมูลเรดาร์ตรวจอากาศ เป็นต้น\n",
    "\n",
    "* นิสิตภูมิศาสตร์ หากใช้งาน numpy ได้คล่อง จะนำไปต่อยอดด้าน spatial data science ได้ มีโอกาศได้งาน ได้พัฒนาตนเองไปอีกขั้นครับ\n",
    "\n",
    "* โค้ดและรูปแบบการสอนเอามาจากสแตนฟอร์ด https://cs231n.github.io/python-numpy-tutorial/#numpy\n",
    "* ยูทูปแนะนำให้นิสิตไปศึกษาด้วยตนเองเรื่อง Numpy ของอาจารย์ประเสริฐ https://www.youtube.com/watch?v=ts2L5mtMMi8&list=PLoTScYm9O0GFNEpzsCBEnkUwgAwOu_PWw\n",
    "\n",
    "### ข้อแนะนำ\n",
    "ก่อนเรียน numpy นิสิตจะต้องมีพื้นฐานเรื่องไพธอนมาแล้วในระดับพื้นฐาน หากสามารถใช้งานไพธอนได้ระดับปานกลางจะดีมาก หากยังไม่มีพื้น ก็ให้ไปเล่นตามลิงก์นี้\n",
    "* 1. เรียนด้วยการก๊อปปี้ รันโค้ดใน notebook jupyter ของสแตนฟอร์ด คำเตือน เป็นภาษาอังกฤษ แต่ดี https://cs231n.github.io/python-numpy-tutorial/#python\n",
    "* 2. ฝึกเรียนด้วยการพิมพ์ตามในติวเตอร์เรียลไพธอนของ ผศ.ดร.นัฐพล มหาวิค วีดีโอที่ 3-4 https://www.youtube.com/watch?v=JM8TtBm1yHs&list=PL2e-NEAjUyLFlRjQ5fQBrX_8M-onbMQHf&index=4\n",
    "* 3. ถ้าอยากรู้และเชี่ยวชาญจริงเลยในด้านภาษาไพธอน ที่สามารถใช้งานใช้การได้เลย แนะนำของอ.ประเสริฐ วีดีโอ 1-123 จะนำไปใช้ในงาน data science ได้เลย https://www.youtube.com/watch?v=bu6kwrpOqFM&list=PLoTScYm9O0GH4YQs9t4tf2RIYolHt_YwW\n",
    "* 4. หรือเรียนของ คุณ Kong Ruksiam https://www.youtube.com/watch?v=N1fnq4MF3AE\n",
    "\n",
    "\n",
    "มีแพคเกจหนึ่งที่ชื่อ XArray ได้ถูกพัฒนาขึ้นจากพื้นฐานของ Numpy มีการนำมาใช้อย่างแพร่หลายในงานด้านภูมิอากาศวิทยา เนื่องจากข้อมูลที่นำมาใช้นั้นมีลักษณะแบบ 4DVars นิสิตสามารถศึกษา XArray ได้หลักจากเรียน Numpy แล้วตามลิงก์นี้  https://docs.xarray.dev/en/latest/gallery.html"
   ]
  },
  {
   "cell_type": "markdown",
   "id": "db9eeb01",
   "metadata": {},
   "source": [
    "## 1. Arrays"
   ]
  },
  {
   "cell_type": "markdown",
   "id": "eae55266",
   "metadata": {},
   "source": [
    "Numpy array คือ กริดที่เก็บค่าไว้ ที่มีพิกัดเป็นแถว (row) และหลัก (column) โดยอาจมีมิติของอาเรย์ที่มากกว่า 1 มิติ (dimension) ก็เป็นได้ ข้อมูลที่เก็บไว้จะมีการตั้งค่าอินเด็กซ์เอาไว้   \n",
    "* จำนวนของมิติเรียว่า rank\n",
    "* ขนาดของอาเรย์เรียกว่า shape ที่จะบอก size\n",
    "\n",
    "ค่าแต่ละค่าที่เก็บไว้ในอาเรย์ จะเรียกว่า อิลิเมนท์ element"
   ]
  },
  {
   "cell_type": "markdown",
   "id": "170af9a0",
   "metadata": {},
   "source": [
    "### สร้างความคุ้นเคยกับอาเรย์"
   ]
  },
  {
   "cell_type": "code",
   "execution_count": 1,
   "id": "87b44ed1",
   "metadata": {},
   "outputs": [],
   "source": [
    "import numpy as np"
   ]
  },
  {
   "cell_type": "code",
   "execution_count": 2,
   "id": "06dcb45a",
   "metadata": {},
   "outputs": [
    {
     "name": "stdout",
     "output_type": "stream",
     "text": [
      "[1 2 3]\n"
     ]
    }
   ],
   "source": [
    "a = np.array([1, 2, 3]) #สร้างอาเรย์ rank 1 array\n",
    "print(a)"
   ]
  },
  {
   "cell_type": "code",
   "execution_count": 3,
   "id": "b218cc10",
   "metadata": {},
   "outputs": [
    {
     "name": "stdout",
     "output_type": "stream",
     "text": [
      "(3,)\n"
     ]
    }
   ],
   "source": [
    "#ดูรูปร่างอาเรย์\n",
    "print(a.shape)"
   ]
  },
  {
   "cell_type": "markdown",
   "id": "534fee58",
   "metadata": {},
   "source": [
    "เป็นอาเรย์ที่มีจำนวน 3 ค่า"
   ]
  },
  {
   "cell_type": "code",
   "execution_count": 4,
   "id": "a0061ae3",
   "metadata": {},
   "outputs": [
    {
     "name": "stdout",
     "output_type": "stream",
     "text": [
      "1 2 3\n"
     ]
    }
   ],
   "source": [
    "# ดึงค่าในอาเรย์มาปริ้น\n",
    "print(a[0], a[1], a[2]) "
   ]
  },
  {
   "cell_type": "markdown",
   "id": "fee36036",
   "metadata": {},
   "source": [
    "อินเด็กซ์จะเริ่ม่ี่ 0 นั่นคือ ตำแหน่งแรกของค่าในอาเรย์"
   ]
  },
  {
   "cell_type": "code",
   "execution_count": 7,
   "id": "8228494c",
   "metadata": {},
   "outputs": [
    {
     "name": "stdout",
     "output_type": "stream",
     "text": [
      "[[1 2 3]\n",
      " [4 5 6]]\n"
     ]
    }
   ],
   "source": [
    "#สร้างอาเรย์ 2 มิติ\n",
    "b = np.array([[1,2,3],[4,5,6]])\n",
    "print(b)"
   ]
  },
  {
   "cell_type": "code",
   "execution_count": 8,
   "id": "c3dd8f39",
   "metadata": {},
   "outputs": [
    {
     "name": "stdout",
     "output_type": "stream",
     "text": [
      "(2, 3)\n"
     ]
    }
   ],
   "source": [
    "print(b.shape)"
   ]
  },
  {
   "cell_type": "markdown",
   "id": "4696645a",
   "metadata": {},
   "source": [
    "อาเรย์ 2 มิติ ที่มีจำนวน 2 แถวและ 3 หลัก"
   ]
  },
  {
   "cell_type": "code",
   "execution_count": 10,
   "id": "cc6a7e79",
   "metadata": {},
   "outputs": [
    {
     "name": "stdout",
     "output_type": "stream",
     "text": [
      "1 2 4\n"
     ]
    }
   ],
   "source": [
    "#ดึงค่าอาเรย์แบบ 2 มิติ ด้วยการใน่อินเด็กซ์อาเรย์ หรือค่าพิกัด\n",
    "print(b[0,0], b[0,1], b[1,0]) # b[0,0] คือ แถวที่ 1 หลักที่ 1 / b[0,1] คือ แถวที่ 1 หลักที่ 2 / b[1,0] คือ แถวที่ 2 หลักที่ 1"
   ]
  },
  {
   "cell_type": "markdown",
   "id": "20781e1e",
   "metadata": {},
   "source": [
    "ให้นิสิตลองดึงค่า 6 ในอาเรย์ด้านบนดู ว่าต้องใช้ อินเด็กซ์ แถว/หลักที่เท่าไหร่"
   ]
  },
  {
   "cell_type": "markdown",
   "id": "28e5d332",
   "metadata": {},
   "source": [
    "### แนะนำฟังก์ชันใน numpy"
   ]
  },
  {
   "cell_type": "code",
   "execution_count": 12,
   "id": "7f9c2680",
   "metadata": {},
   "outputs": [],
   "source": [
    "import numpy as np\n",
    "# มีฟังก์ชันหลากหลาย หากนิสิตอยากอ่าน help ว่าฟังก์ชันเหล่านั้นใช้งานอย่างไร ให้กด shift + tab"
   ]
  },
  {
   "cell_type": "code",
   "execution_count": 14,
   "id": "c87caa4b",
   "metadata": {},
   "outputs": [
    {
     "name": "stdout",
     "output_type": "stream",
     "text": [
      "[[0. 0.]\n",
      " [0. 0.]]\n"
     ]
    }
   ],
   "source": [
    "# สร้างอาเรย์ที่มีค่า 0 ในมิติ 2x2 นั่นคือ 2 แถว กับ 2 หลัก\n",
    "a =np.zeros((2,2))\n",
    "print(a)"
   ]
  },
  {
   "cell_type": "code",
   "execution_count": 16,
   "id": "dc0d3d8a",
   "metadata": {},
   "outputs": [
    {
     "name": "stdout",
     "output_type": "stream",
     "text": [
      "[[1. 1.]]\n"
     ]
    }
   ],
   "source": [
    "# สร้างอาเรย์ที่มีค่า 1 ในมิติ 1x2 นั่นคือ 1 แถว กับ 2 หลัก\n",
    "b = np.ones((1,2))\n",
    "print(b)"
   ]
  },
  {
   "cell_type": "code",
   "execution_count": 17,
   "id": "ada4cd27",
   "metadata": {},
   "outputs": [
    {
     "name": "stdout",
     "output_type": "stream",
     "text": [
      "[[7 7]\n",
      " [7 7]]\n"
     ]
    }
   ],
   "source": [
    "#สร้างอาเรย์ 2 x 2 ที่บรรจุค่าคงที่ที่เราต้องการ\n",
    "c = np.full((2,2), 7)\n",
    "print(c)"
   ]
  },
  {
   "cell_type": "code",
   "execution_count": 18,
   "id": "2d8fc584",
   "metadata": {},
   "outputs": [
    {
     "name": "stdout",
     "output_type": "stream",
     "text": [
      "[[1. 0.]\n",
      " [0. 1.]]\n"
     ]
    }
   ],
   "source": [
    "#สร้างอาเรย์แบบ 2 x2 ที่มีค่า 1 อยู่ในแนวเส้นทะแยงมุม และค่า 0 อยู่นอกแนวทะแยงมุม\n",
    "d = np.eye(2)\n",
    "print(d)"
   ]
  },
  {
   "cell_type": "code",
   "execution_count": 22,
   "id": "be338517",
   "metadata": {},
   "outputs": [
    {
     "name": "stdout",
     "output_type": "stream",
     "text": [
      "[[0.88381816 0.26950578]\n",
      " [0.00908511 0.36874151]]\n"
     ]
    }
   ],
   "source": [
    "#สร้างอารเรย์ 2x2 ที่บรรจุค่าที่ได้จากการสุ่มของฟังก์ชัน\n",
    "e = np.random.random((2,2))\n",
    "print(e)"
   ]
  },
  {
   "cell_type": "markdown",
   "id": "e2aeb1a3",
   "metadata": {},
   "source": [
    "## 2. Array indexing อินเด็กซ์ในอาเรย์\n",
    "นั่นคือ เทคนิคการดึงข้อมูลหรือเรียกใช้ค่าในอาเรย์ ด้วยการกำหนดค่าพิกัดแถวและหลักที่ต้องการ เพื่อดึงข้อมูลออกมาใช้ในการประมวลผล มีเทคนิคหลายอย่าง ดังจะได้กล่าวต่อไป\n"
   ]
  },
  {
   "cell_type": "markdown",
   "id": "449dce93",
   "metadata": {},
   "source": [
    "### Slicing\n",
    "หั่น หรือว่า เฉือน ข้อมูลบางส่วนในอาเรย์ออกมา ตามที่เราต้องการ"
   ]
  },
  {
   "cell_type": "code",
   "execution_count": 24,
   "id": "abcea107",
   "metadata": {},
   "outputs": [],
   "source": [
    "import numpy as np\n"
   ]
  },
  {
   "cell_type": "code",
   "execution_count": 25,
   "id": "132edcd9",
   "metadata": {},
   "outputs": [
    {
     "name": "stdout",
     "output_type": "stream",
     "text": [
      "[[ 1  2  3  4]\n",
      " [ 5  6  7  8]\n",
      " [ 9 10 11 12]]\n"
     ]
    }
   ],
   "source": [
    "# สร้างอาเรย์  3 x 4 ก่อน\n",
    "a = np.array([[1,2,3,4], [5,6,7,8], [9,10,11,12]])\n",
    "print(a)"
   ]
  },
  {
   "cell_type": "code",
   "execution_count": 26,
   "id": "f96404bb",
   "metadata": {},
   "outputs": [
    {
     "name": "stdout",
     "output_type": "stream",
     "text": [
      "[[2 3]\n",
      " [6 7]]\n"
     ]
    }
   ],
   "source": [
    "# ต้องการดึงค่า 2,3 และ 6,7 ออกมาจากอาเรย์ใหญ่\n",
    "b = a[:2, 1:3] # :2 คือ เลือกตั้งแต่แถวที่ 1 ไป จนถึงแถวที่ 2  --- 1:3 หมายถึง เลือกอินเด็กซ์ที่ 1 ของหลัก นั่นคือ หลักที่ 2 ไปจนถึง หลักที่ 3\n",
    "print(b)"
   ]
  },
  {
   "cell_type": "markdown",
   "id": "e01323ae",
   "metadata": {},
   "source": [
    "* นิสิตลองดึงค่า [[5 6], [9 10]] ---> เฉลย a[1:, :2]\n",
    "* นิสิตลองดึงค่า [6 7 8] ---> เฉลย a[1, 1:]\n",
    "* นิสิตลองดึง [4 8 12] ---> เฉลย a[:, 3]"
   ]
  },
  {
   "cell_type": "code",
   "execution_count": 28,
   "id": "e144934f",
   "metadata": {},
   "outputs": [
    {
     "data": {
      "text/plain": [
       "array([[ 5,  6],\n",
       "       [ 9, 10]])"
      ]
     },
     "execution_count": 28,
     "metadata": {},
     "output_type": "execute_result"
    }
   ],
   "source": [
    "a[1:, :2]"
   ]
  },
  {
   "cell_type": "code",
   "execution_count": 31,
   "id": "20282827",
   "metadata": {},
   "outputs": [
    {
     "data": {
      "text/plain": [
       "array([6, 7, 8])"
      ]
     },
     "execution_count": 31,
     "metadata": {},
     "output_type": "execute_result"
    }
   ],
   "source": [
    " a[1, 1:]"
   ]
  },
  {
   "cell_type": "code",
   "execution_count": 32,
   "id": "203b09b1",
   "metadata": {},
   "outputs": [
    {
     "data": {
      "text/plain": [
       "array([ 4,  8, 12])"
      ]
     },
     "execution_count": 32,
     "metadata": {},
     "output_type": "execute_result"
    }
   ],
   "source": [
    " a[:, 3]"
   ]
  },
  {
   "cell_type": "code",
   "execution_count": 33,
   "id": "1918ca40",
   "metadata": {},
   "outputs": [
    {
     "name": "stdout",
     "output_type": "stream",
     "text": [
      "2\n"
     ]
    }
   ],
   "source": [
    "# ดึงค่า 2\n",
    "print(a[0,1])"
   ]
  },
  {
   "cell_type": "code",
   "execution_count": 34,
   "id": "9242f9bf",
   "metadata": {},
   "outputs": [
    {
     "name": "stdout",
     "output_type": "stream",
     "text": [
      "77\n"
     ]
    }
   ],
   "source": [
    "# แทนที่ค่า 2 ด้วย ค่า 77\n",
    "a[0,1] = 77\n",
    "print(a[0,1])"
   ]
  },
  {
   "cell_type": "code",
   "execution_count": 35,
   "id": "14fd9b45",
   "metadata": {},
   "outputs": [
    {
     "name": "stdout",
     "output_type": "stream",
     "text": [
      "[[ 1 77  3  4]\n",
      " [ 5  6  7  8]\n",
      " [ 9 10 11 12]]\n"
     ]
    }
   ],
   "source": [
    "print(a)"
   ]
  },
  {
   "cell_type": "markdown",
   "id": "fb5d5f82",
   "metadata": {},
   "source": [
    "### การสร้างอาเรย์บูลีนอินเด็กซิ่ง Boolean array indexing\n",
    "เทคนิคการเลือกอีลิเมนท์ในอาเรย์ที่ตรงกับเงื่อนไข มีความสำคัญในงานทางด้านรีโมทเซนซิ่งและภูมิอากาศวิทยาอย่างมาก ในเรื่องการทำ mask"
   ]
  },
  {
   "cell_type": "code",
   "execution_count": 36,
   "id": "e94f5490",
   "metadata": {},
   "outputs": [],
   "source": [
    "import numpy as np"
   ]
  },
  {
   "cell_type": "code",
   "execution_count": 38,
   "id": "53f5538d",
   "metadata": {},
   "outputs": [
    {
     "name": "stdout",
     "output_type": "stream",
     "text": [
      "[[1 2]\n",
      " [3 4]\n",
      " [5 6]]\n"
     ]
    }
   ],
   "source": [
    "a = np.array([[1,2], [3, 4], [5, 6]])\n",
    "print(a)"
   ]
  },
  {
   "cell_type": "code",
   "execution_count": 41,
   "id": "5d12b2b9",
   "metadata": {},
   "outputs": [
    {
     "name": "stdout",
     "output_type": "stream",
     "text": [
      "[[False False]\n",
      " [ True  True]\n",
      " [ True  True]]\n"
     ]
    }
   ],
   "source": [
    "# หาอีลิเมนท์ในอาเรย์ที่มีค่ามากกว่า 2 นั่นคือ จะได้ 1 , 2 เป็นค่า false ส่วนอิลิเมนท์ที่เหลือผ่านเงื่อนไข คือ มีค่ามากกว่า 2\n",
    "bool_idx = (a>2)\n",
    "print(bool_idx)"
   ]
  },
  {
   "cell_type": "code",
   "execution_count": 42,
   "id": "d00d6aee",
   "metadata": {},
   "outputs": [
    {
     "name": "stdout",
     "output_type": "stream",
     "text": [
      "[3 4 5 6]\n"
     ]
    }
   ],
   "source": [
    "#นำ boolean index มาสร้างเป็นผลลัพธ์ของค่าที่ผ่านเกณฑ์ จะทำให้ได้อาเรย์ผลลัพธ์ที่มี rank = 1 หรือมี่มิติเดียว\n",
    "print(a[bool_idx])"
   ]
  },
  {
   "cell_type": "code",
   "execution_count": 43,
   "id": "491ee25a",
   "metadata": {},
   "outputs": [
    {
     "name": "stdout",
     "output_type": "stream",
     "text": [
      "[3 4 5 6]\n"
     ]
    }
   ],
   "source": [
    "#สามารถสร้างอาเรย์ boolean index ด้วยวิธีแบบสั้นดังนี้\n",
    "print(a[a>2])"
   ]
  },
  {
   "cell_type": "markdown",
   "id": "413cfcb1",
   "metadata": {},
   "source": [
    "ที่กล่าวมาเป็นเพียงอย่างย่อเรื่อง boolean indexing หากต้องการเข้าใจมากขึ้นหรือฝึกมากขึ้น ให้อ่าน https://numpy.org/doc/stable/reference/arrays.indexing.html"
   ]
  },
  {
   "cell_type": "markdown",
   "id": "ed5224f9",
   "metadata": {},
   "source": [
    "## 3.ชนิดข้อมูล Data Types\n",
    "หากไม่ระบุชนิดข้อมูลใน numpy อาเรย์ ก็ยังสามารถสร้างอาเรย์ได้ เพราะ numpy จะทำหน้าที่เดาชนิดข้อมูลให้เอง แต่บางฟังก์ชันสามารถระบุให้ชัดเจนได้เลยว่าต้องการใช้ชนิดข้อมูลอะไรในอาเรย์"
   ]
  },
  {
   "cell_type": "code",
   "execution_count": 45,
   "id": "62db1415",
   "metadata": {},
   "outputs": [],
   "source": [
    "import numpy as np"
   ]
  },
  {
   "cell_type": "code",
   "execution_count": 47,
   "id": "87f0453b",
   "metadata": {},
   "outputs": [
    {
     "name": "stdout",
     "output_type": "stream",
     "text": [
      "int32\n"
     ]
    }
   ],
   "source": [
    "x = np.array([1,2])\n",
    "print(x.dtype)"
   ]
  },
  {
   "cell_type": "code",
   "execution_count": 48,
   "id": "40518055",
   "metadata": {},
   "outputs": [
    {
     "name": "stdout",
     "output_type": "stream",
     "text": [
      "float64\n"
     ]
    }
   ],
   "source": [
    "x = np.array([1.0, 2.0])\n",
    "print(x.dtype)"
   ]
  },
  {
   "cell_type": "code",
   "execution_count": 49,
   "id": "f0de9545",
   "metadata": {},
   "outputs": [
    {
     "name": "stdout",
     "output_type": "stream",
     "text": [
      "int64\n"
     ]
    }
   ],
   "source": [
    "x = np.array([1, 2], dtype=np.int64)   \n",
    "print(x.dtype)"
   ]
  },
  {
   "cell_type": "markdown",
   "id": "0a312b88",
   "metadata": {},
   "source": [
    "อ่านชนิดข้อมูลที่สามารถใช้ใน numpy ได้ต่อ จากเอกสารนี้ https://numpy.org/doc/stable/reference/arrays.dtypes.html"
   ]
  },
  {
   "cell_type": "markdown",
   "id": "2c0b07e2",
   "metadata": {},
   "source": [
    "## 4.การคำนวณทางคณิตศาสตร์ Array math\n",
    "สามารถคำนวณค่าระหว่างอาเรย์ได้  ในรูปแบบ elementwise หรือสามารถกระทำการคำนวณค่าระหว่างอาเรย์ทั้งแบบ oeprator overload และแบบการใช้ฟังก์ชันใน Numpyได้ ดังตัวอย่างต่อไปนี้"
   ]
  },
  {
   "cell_type": "markdown",
   "id": "52d7cf0c",
   "metadata": {},
   "source": [
    "### การคำนวณอาเรย์แบบอิลิเมนท์ หรือ elementwise"
   ]
  },
  {
   "cell_type": "code",
   "execution_count": 50,
   "id": "6c3213c6",
   "metadata": {},
   "outputs": [],
   "source": [
    "import numpy as np\n"
   ]
  },
  {
   "cell_type": "code",
   "execution_count": 53,
   "id": "a7ba1e55",
   "metadata": {},
   "outputs": [
    {
     "name": "stdout",
     "output_type": "stream",
     "text": [
      "[[1. 2.]\n",
      " [3. 4.]]\n",
      "[[5. 6.]\n",
      " [7. 8.]]\n"
     ]
    }
   ],
   "source": [
    "x = np.array([[1,2],[3,4]], dtype=np.float64)\n",
    "y = np.array([[5,6],[7,8]], dtype=np.float64)\n",
    "print(x) \n",
    "print(y)"
   ]
  },
  {
   "cell_type": "code",
   "execution_count": 54,
   "id": "6d6c0deb",
   "metadata": {},
   "outputs": [
    {
     "name": "stdout",
     "output_type": "stream",
     "text": [
      "[[ 6.  8.]\n",
      " [10. 12.]]\n",
      "[[ 6.  8.]\n",
      " [10. 12.]]\n"
     ]
    }
   ],
   "source": [
    "#หาผลรวมของอิลิเมนท์ในอาเรย์ elementwise sum\n",
    "print(x + y)\n",
    "\n",
    "#ใช้ฟังก์ชัน\n",
    "print(np.add(x,y))"
   ]
  },
  {
   "cell_type": "code",
   "execution_count": 55,
   "id": "7af393f3",
   "metadata": {},
   "outputs": [
    {
     "name": "stdout",
     "output_type": "stream",
     "text": [
      "[[-4. -4.]\n",
      " [-4. -4.]]\n",
      "[[-4. -4.]\n",
      " [-4. -4.]]\n"
     ]
    }
   ],
   "source": [
    "# หาผลต่างของอิลิเมนท์ในอาเรย์ Elementwise difference\n",
    "print(x - y)\n",
    "print(np.subtract(x, y))"
   ]
  },
  {
   "cell_type": "code",
   "execution_count": 56,
   "id": "67c1e9ab",
   "metadata": {},
   "outputs": [
    {
     "name": "stdout",
     "output_type": "stream",
     "text": [
      "[[ 5. 12.]\n",
      " [21. 32.]]\n",
      "[[ 5. 12.]\n",
      " [21. 32.]]\n"
     ]
    }
   ],
   "source": [
    "# หาผลคูณของอิลิเมนท์ในอาเรย์ Elementwise multiply\n",
    "print(x * y)\n",
    "print(np.multiply(x, y))"
   ]
  },
  {
   "cell_type": "markdown",
   "id": "618e6dd6",
   "metadata": {},
   "source": [
    "สังเกตุว่า * จะให้ผลลัพธ์เป็นผลคูณระหว่างอิลิเมนท์ของอาเรย์ ไม่เหมือนกันกับ * ของ Matlab ที่จะทำการคำนวณด้วยการคูณในรูปแบบ matrix multiplication อย่างไรก็ตามในไพธอนจะใช้ dot ฟังก์ชันในการหาผลคูณของเมทริกซ์"
   ]
  },
  {
   "cell_type": "code",
   "execution_count": 57,
   "id": "2b2643b2",
   "metadata": {},
   "outputs": [
    {
     "name": "stdout",
     "output_type": "stream",
     "text": [
      "[[0.2        0.33333333]\n",
      " [0.42857143 0.5       ]]\n",
      "[[0.2        0.33333333]\n",
      " [0.42857143 0.5       ]]\n"
     ]
    }
   ],
   "source": [
    "# หาผลหารของอิลิเมนท์ในอาเรย์ Elementwise divide\n",
    "print(x / y)\n",
    "print(np.divide(x, y))\n"
   ]
  },
  {
   "cell_type": "code",
   "execution_count": 58,
   "id": "fcd3942a",
   "metadata": {},
   "outputs": [
    {
     "name": "stdout",
     "output_type": "stream",
     "text": [
      "[[1.         1.41421356]\n",
      " [1.73205081 2.        ]]\n"
     ]
    }
   ],
   "source": [
    "# หาผลรากที่สองของอิลิเมนท์ในอาเรย์ Elementwise square root\n",
    "print(np.sqrt(x))"
   ]
  },
  {
   "cell_type": "markdown",
   "id": "ccf0e2f4",
   "metadata": {},
   "source": [
    "### การใช้ dot ฟังก์ชันในไพธอนเพื่อหาผลคูณแมทริกซ์\n",
    "สังเกตุว่า * จะให้ผลลัพธ์เป็นผลคูณระหว่างอิลิเมนท์ของอาเรย์ ไม่เหมือนกันกับ * ของ Matlab ที่จะทำการคำนวณด้วยการคูณในรูปแบบ matrix multiplication อย่างไรก็ตามในไพธอนจะใช้ dot ฟังก์ชันในการหาผลคูณของเมทริกซ์"
   ]
  },
  {
   "cell_type": "code",
   "execution_count": 59,
   "id": "a57a8f8b",
   "metadata": {},
   "outputs": [],
   "source": [
    "import numpy as np"
   ]
  },
  {
   "cell_type": "code",
   "execution_count": 64,
   "id": "3a9501ce",
   "metadata": {},
   "outputs": [
    {
     "name": "stdout",
     "output_type": "stream",
     "text": [
      "[[1 2]\n",
      " [3 4]]\n",
      "[[5 6]\n",
      " [7 8]]\n",
      "[ 9 10]\n",
      "[11 12]\n"
     ]
    }
   ],
   "source": [
    "x = np.array([[1,2],[3,4]])\n",
    "y = np.array([[5,6],[7,8]])\n",
    "\n",
    "v = np.array([9,10])\n",
    "w = np.array([11, 12])\n",
    "print(x)\n",
    "print(y)\n",
    "print(v)\n",
    "print(w)"
   ]
  },
  {
   "cell_type": "code",
   "execution_count": 61,
   "id": "f4d77e84",
   "metadata": {},
   "outputs": [
    {
     "name": "stdout",
     "output_type": "stream",
     "text": [
      "219\n",
      "219\n"
     ]
    }
   ],
   "source": [
    "# หารวมจากผลคูณภายในเวกเตอร์อาเรย์ Inner product of vectors \n",
    "# 9*11 + 10*12 = 219\n",
    "\n",
    "print(v.dot(w))\n",
    "print(np.dot(v, w))"
   ]
  },
  {
   "cell_type": "code",
   "execution_count": 63,
   "id": "15067146",
   "metadata": {},
   "outputs": [
    {
     "name": "stdout",
     "output_type": "stream",
     "text": [
      "[29 67]\n",
      "[29 67]\n"
     ]
    }
   ],
   "source": [
    "# หาผลคูณเวกเตอร์อาเรย์ในรูปแบบเมทริกซ์ที่เรียกว่า Matrix / vector product \n",
    "# จะคำนวณโดย 1*9 + 2*10 = 29  เก็บไว้ในอิลิเมนท์แรกที่มีอินเด็กซ์ 0\n",
    "# จะให้มิติผลลัพธ์ที่เป็น 1 มิติ หรือ rank = 1\n",
    "print(x.dot(v))\n",
    "print(np.dot(x, v))"
   ]
  },
  {
   "cell_type": "code",
   "execution_count": 65,
   "id": "6c077693",
   "metadata": {},
   "outputs": [
    {
     "name": "stdout",
     "output_type": "stream",
     "text": [
      "[[19 22]\n",
      " [43 50]]\n",
      "[[19 22]\n",
      " [43 50]]\n"
     ]
    }
   ],
   "source": [
    "# หาผลคูณแมทริกซ์ที่เรียกว่า Matrix / matrix product  \n",
    "# จะคิดคำนวณโดย แถว คูณ หลัก แล้วเอาผลคูณของอิลิเมนท์มารวมกันในตำแหน่งอิลิเมน์นั้นๆ นั่นคือ  1*5 + 2*7  = 19 เก็บไว้ที่อิลิเมนท์ที่มีอินเด็กซ์ 0,0\n",
    "# จะให้ผลลัพธ์เป็นอาเรย์ 2 มิติ หรือ rank = 2\n",
    "print(x.dot(y))\n",
    "print(np.dot(x, y))"
   ]
  },
  {
   "cell_type": "markdown",
   "id": "9965b77a",
   "metadata": {},
   "source": [
    "### แนะนำฟังก์ชันคณิตศาสตร์ของ Numpy"
   ]
  },
  {
   "cell_type": "code",
   "execution_count": 66,
   "id": "17f1ad35",
   "metadata": {},
   "outputs": [],
   "source": [
    "import numpy as np"
   ]
  },
  {
   "cell_type": "code",
   "execution_count": 67,
   "id": "1a8b0d91",
   "metadata": {},
   "outputs": [
    {
     "name": "stdout",
     "output_type": "stream",
     "text": [
      "[[1 2]\n",
      " [3 4]]\n"
     ]
    }
   ],
   "source": [
    "# ยกตัวอย่างฟังก์ sum\n",
    "x = np.array([[1,2],[3,4]])\n",
    "print(x)"
   ]
  },
  {
   "cell_type": "code",
   "execution_count": 68,
   "id": "d56fcfd5",
   "metadata": {},
   "outputs": [
    {
     "name": "stdout",
     "output_type": "stream",
     "text": [
      "10\n"
     ]
    }
   ],
   "source": [
    "print(np.sum(x))  # หาผลรวมของทุกอิลิเมนท์"
   ]
  },
  {
   "cell_type": "code",
   "execution_count": 69,
   "id": "57b4149c",
   "metadata": {},
   "outputs": [
    {
     "name": "stdout",
     "output_type": "stream",
     "text": [
      "[4 6]\n"
     ]
    }
   ],
   "source": [
    "print(np.sum(x, axis=0))  # หาผลรวมของแต่ละคอลัมน์ axis=0 แทนคอลัมน์"
   ]
  },
  {
   "cell_type": "code",
   "execution_count": 71,
   "id": "07fd6b73",
   "metadata": {},
   "outputs": [
    {
     "name": "stdout",
     "output_type": "stream",
     "text": [
      "[3 7]\n"
     ]
    }
   ],
   "source": [
    "print(np.sum(x, axis=1))  # หาผลรวมของแต่ละแถว axis=1 แทนแถว"
   ]
  },
  {
   "cell_type": "markdown",
   "id": "16ed2a90",
   "metadata": {},
   "source": [
    "ยังมีฟังก์ชันทางคณิตศาสตร์อีกมากมายในๅ numpy ให้นิสิตลองเข้าไปศึกษาในลิงก์นี้ https://numpy.org/doc/stable/reference/routines.math.html"
   ]
  },
  {
   "cell_type": "markdown",
   "id": "fdbf83dd",
   "metadata": {},
   "source": [
    "###  การใช้ฟังก์ชันทรานสโพสใน Numpy\n",
    "โดยทั่วไปการจัดการอาเรย์ในหลายๆ ครั้งจะมีการใช้ reshape ที่จะเปลี่ยนแปลงมิติจาก rank 1 ไปสู่ rank 2 อย่างไรก็ตามการใช้ trraspose กับอาเรย์ก็พบว่ามีการใช้งานไม่น้อยเลยทีเดียว"
   ]
  },
  {
   "cell_type": "code",
   "execution_count": 73,
   "id": "08f348ad",
   "metadata": {},
   "outputs": [],
   "source": [
    "import numpy as np\n"
   ]
  },
  {
   "cell_type": "code",
   "execution_count": 74,
   "id": "cea99e92",
   "metadata": {},
   "outputs": [
    {
     "name": "stdout",
     "output_type": "stream",
     "text": [
      "[[1 2]\n",
      " [3 4]]\n"
     ]
    }
   ],
   "source": [
    "x = np.array([[1,2], [3,4]])\n",
    "print(x) "
   ]
  },
  {
   "cell_type": "code",
   "execution_count": 75,
   "id": "0ea05715",
   "metadata": {},
   "outputs": [
    {
     "name": "stdout",
     "output_type": "stream",
     "text": [
      "[[1 3]\n",
      " [2 4]]\n"
     ]
    }
   ],
   "source": [
    "print(x.T)"
   ]
  },
  {
   "cell_type": "markdown",
   "id": "852b321b",
   "metadata": {},
   "source": [
    "อ่านการจัดการอาเรย์ด้วยฟังก์ชันอื่นๆ อีกมาก https://numpy.org/doc/stable/reference/routines.array-manipulation.html"
   ]
  },
  {
   "cell_type": "markdown",
   "id": "8b692aaf",
   "metadata": {},
   "source": [
    "## 5.เทคนิคการใช้บรอดคาส หรือ Broadcasting \n",
    "การใช้เทคนิค broadcasting มีความสำคัญต่อการคำนวณค่าอาเรย์สองชุด หากมีอาเรย์ที่มีขนาดที่ใหญ่กว่า แล้วต้องการใช้อาเรย์ที่มีขนาดเล็กกว่าในการคำนวณทางด้านคณิตศาสตร์ ก็สามารถกระทำได้ ดังตัวอย่างต่อไปนี้"
   ]
  },
  {
   "cell_type": "markdown",
   "id": "26efb726",
   "metadata": {},
   "source": [
    "### การแอดค่าเวกเตอร์ขนาดเล็กเข้าไปในเวกเตอร์ที่ใหญ่กว่า\n",
    "นั่นคือ มีอาเรย์ x ที่มีขนาดใหญ่ แล้วต้องการแอดค่าของเวกเตอร์อาเรย์ v เข้าไปทุกๆ แถว"
   ]
  },
  {
   "cell_type": "code",
   "execution_count": 76,
   "id": "566078e7",
   "metadata": {},
   "outputs": [],
   "source": [
    "import numpy as np"
   ]
  },
  {
   "cell_type": "code",
   "execution_count": 77,
   "id": "d3ee8e77",
   "metadata": {},
   "outputs": [],
   "source": [
    "x = np.array([[1,2,3], [4,5,6], [7,8,9], [10, 11, 12]]) #เวกเตอร์อาเรย์ขนาดใหญ่\n",
    "v = np.array([1, 0, 1]) # เวกเตอร์อาเรย์\n",
    "y = np.empty_like(x)  # สร้างเวกเตอร์เปล่าเพื่อเก็บผลลัพธ์ที่มีขนาดมิติเท่ากับอาเรย์ x\n"
   ]
  },
  {
   "cell_type": "code",
   "execution_count": 78,
   "id": "1b78b3f4",
   "metadata": {},
   "outputs": [
    {
     "name": "stdout",
     "output_type": "stream",
     "text": [
      "[[ 1  2  3]\n",
      " [ 4  5  6]\n",
      " [ 7  8  9]\n",
      " [10 11 12]]\n"
     ]
    }
   ],
   "source": [
    "print(x)"
   ]
  },
  {
   "cell_type": "code",
   "execution_count": 79,
   "id": "e381f617",
   "metadata": {},
   "outputs": [
    {
     "name": "stdout",
     "output_type": "stream",
     "text": [
      "[1 0 1]\n"
     ]
    }
   ],
   "source": [
    "print(v)"
   ]
  },
  {
   "cell_type": "code",
   "execution_count": 80,
   "id": "eec8ba80",
   "metadata": {},
   "outputs": [],
   "source": [
    "# คำนวณโดยใช้ลูปในแต่ละแถวของอาเรย์ x เพื่อทำการรวมค่าเวกเตอร์ v เข้าไปในแต่ละแถว\n",
    "for i in range(4):\n",
    "    y[i, :] = x[i, :] + v"
   ]
  },
  {
   "cell_type": "code",
   "execution_count": 81,
   "id": "09f48aad",
   "metadata": {},
   "outputs": [
    {
     "name": "stdout",
     "output_type": "stream",
     "text": [
      "[[ 2  2  4]\n",
      " [ 5  5  7]\n",
      " [ 8  8 10]\n",
      " [11 11 13]]\n"
     ]
    }
   ],
   "source": [
    "print(y)"
   ]
  },
  {
   "cell_type": "markdown",
   "id": "04369e83",
   "metadata": {},
   "source": [
    "### การแอดค่าเวกเตอร์ขนาดเล็กเข้าไปในเวกเตอร์ที่ใหญ่กว่ามากๆ \n",
    "ในกรณีที่เวกเตอร์มีขนาดใหญ่มากๆ การใช้ลูปในการคำนวณจะช้ามากๆ เทคนิคคือจะทำการสร้างเวกเตอร์ขนาดเล็กที่จะนำไปคำนวณร่วมกันด้วยการก๊อปปี้ใช้ np.tile แล้วจึงทำการคำนวณระหว่างอาเรย์ด้วยวิธีการ elementwise"
   ]
  },
  {
   "cell_type": "code",
   "execution_count": 82,
   "id": "7ee56c1d",
   "metadata": {},
   "outputs": [],
   "source": [
    "import numpy as np"
   ]
  },
  {
   "cell_type": "code",
   "execution_count": 86,
   "id": "2eb9b77f",
   "metadata": {},
   "outputs": [],
   "source": [
    "x = np.array([[1,2,3], [4,5,6], [7,8,9], [10, 11, 12]])\n",
    "v = np.array([1, 0, 1])\n",
    "vv = np.tile(v, (4, 1)) # 4 คือจำนวนแถวของ x"
   ]
  },
  {
   "cell_type": "code",
   "execution_count": 87,
   "id": "2a6082da",
   "metadata": {},
   "outputs": [
    {
     "name": "stdout",
     "output_type": "stream",
     "text": [
      "[[1 0 1]\n",
      " [1 0 1]\n",
      " [1 0 1]\n",
      " [1 0 1]]\n"
     ]
    }
   ],
   "source": [
    "print(vv)"
   ]
  },
  {
   "cell_type": "code",
   "execution_count": 88,
   "id": "a622e13e",
   "metadata": {},
   "outputs": [
    {
     "name": "stdout",
     "output_type": "stream",
     "text": [
      "[[ 2  2  4]\n",
      " [ 5  5  7]\n",
      " [ 8  8 10]\n",
      " [11 11 13]]\n"
     ]
    }
   ],
   "source": [
    "y = x + vv\n",
    "print(y)"
   ]
  },
  {
   "cell_type": "markdown",
   "id": "e86420a6",
   "metadata": {},
   "source": [
    "### เทคนิคการใช้บรอดคาส broadcasting ในการคำนวณโดยไม่ต้องทำการก๊อปปี้เวกเตอร์ขนาดเล็กให้เท่ากับมิติของเวกเตอร์ขนาดใหญ่\n"
   ]
  },
  {
   "cell_type": "code",
   "execution_count": 89,
   "id": "3c220802",
   "metadata": {},
   "outputs": [],
   "source": [
    "import numpy as np"
   ]
  },
  {
   "cell_type": "code",
   "execution_count": 90,
   "id": "fd223731",
   "metadata": {},
   "outputs": [],
   "source": [
    "x = np.array([[1,2,3], [4,5,6], [7,8,9], [10, 11, 12]])\n",
    "v = np.array([1, 0, 1])"
   ]
  },
  {
   "cell_type": "code",
   "execution_count": 91,
   "id": "b5bb96ac",
   "metadata": {},
   "outputs": [],
   "source": [
    "y = x + v "
   ]
  },
  {
   "cell_type": "code",
   "execution_count": 92,
   "id": "7ece61f6",
   "metadata": {},
   "outputs": [
    {
     "name": "stdout",
     "output_type": "stream",
     "text": [
      "[[ 2  2  4]\n",
      " [ 5  5  7]\n",
      " [ 8  8 10]\n",
      " [11 11 13]]\n"
     ]
    }
   ],
   "source": [
    "print(y)"
   ]
  },
  {
   "cell_type": "markdown",
   "id": "5a46f69e",
   "metadata": {},
   "source": [
    "Broadcasting two arrays together follows these rules:\n",
    "\n",
    "If the arrays do not have the same rank, prepend the shape of the lower rank array with 1s until both shapes have the same length.\n",
    "The two arrays are said to be compatible in a dimension if they have the same size in the dimension, or if one of the arrays has size 1 in that dimension.\n",
    "The arrays can be broadcast together if they are compatible in all dimensions.\n",
    "After broadcasting, each array behaves as if it had shape equal to the elementwise maximum of shapes of the two input arrays.\n",
    "In any dimension where one array had size 1 and the other array had size greater than 1, the first array behaves as if it were copied along that dimension"
   ]
  },
  {
   "cell_type": "markdown",
   "id": "e2cc5119",
   "metadata": {},
   "source": [
    "# แนะนำ SciPy เพื่อใช้งานร่วมกับ Numpy\n",
    "Numpy สามารถนำมาจัดการข้อมูลอาเรย์หลายมิติได้ อย่างไรก็ตามมีไลบราลีที่ชื่อ Scipy ที่มีฟังก์ชันที่ช่วยในการคำนวณทางด้านวิทยาศาสตร์และวิศวกรรมศาสตร์ โดยสร้างบนพื้นฐานของ Numpy นักภูมิศาสตร์สามารถใช้ Scipy ได้ในหลายมิติ เช่น การประมาณค่าเชิงพื้นที่ของตัวแปรที่มีลักษณะจุด ให้กลายเป็นพื้นที่แบบกริดหรือราสเตอร์ การคำนวณค่าเกี่ยวกับข้อมูลรีโมทเซนซิ่ง การหาค่าสถิติ การประมาณผลสัญญาณ การหาค่าไอเกน การคำนวณค่า EOF ที่มักนำไปใช้งานทางด้านภูมิอากาศวิทยา นิสิตสามารถเข้าไปศึกษา Scipy ได้จากลิงก์นี้ https://docs.scipy.org/doc/scipy/tutorial/general.html\n",
    "\n",
    "\n",
    "โค้ดและรูปแบบในติวเตอร์เรียลนี้เอามาจากสแตนฟอร์ด https://cs231n.github.io/python-numpy-tutorial/#scipy"
   ]
  },
  {
   "cell_type": "markdown",
   "id": "a9aca5d2",
   "metadata": {},
   "source": [
    "# แนะนำ Matplotlib ไลบราลี\n",
    "Matplotlib เป็นไลบราลีสำหรับใช้ในการพลอตกราฟ พลอตภาพ พลอตข้อมูลราสเตอร์ เวกเตอร์ ซึ่งในงานด้านแผนที่ งานด้านภูมิศาสตร์ รีโมทเซนซิ่งและภูมิอากาศวิทยาใช้เยอะมาก ดังนั้นนิสิตจำเป็นที่จะต้องเรียนรู้ ลิงก์เพจ matplotlib  https://matplotlib.org/stable/gallery/index\n",
    "\n",
    "โค้ดและรูปแบบใช้ติวเตอร์จากสแตนฟอร์ด https://cs231n.github.io/python-numpy-tutorial/#matplotlib"
   ]
  },
  {
   "cell_type": "markdown",
   "id": "3d1f4f4e",
   "metadata": {},
   "source": [
    "## 1. การพลอตข้อมูลในรูปแบบกราฟเส้นแบบ 2 มิติอย่างง่าย\n"
   ]
  },
  {
   "cell_type": "code",
   "execution_count": 119,
   "id": "b55dfe98",
   "metadata": {},
   "outputs": [],
   "source": [
    "import numpy as np\n",
    "import matplotlib.pyplot as plt"
   ]
  },
  {
   "cell_type": "code",
   "execution_count": 120,
   "id": "b406a883",
   "metadata": {},
   "outputs": [],
   "source": [
    "# หาค่า x และ y ในแต่ละจุดพิกัดเพื่อพลอตโค้งไซน์\n",
    "x = np.arange(0, 3 * np.pi, 0.1)\n",
    "y = np.sin(x)"
   ]
  },
  {
   "cell_type": "code",
   "execution_count": 128,
   "id": "5deb9edf",
   "metadata": {},
   "outputs": [
    {
     "name": "stdout",
     "output_type": "stream",
     "text": [
      "x:  [0.  0.1 0.2 0.3 0.4 0.5 0.6 0.7 0.8 0.9 1.  1.1 1.2 1.3 1.4 1.5 1.6 1.7\n",
      " 1.8 1.9 2.  2.1 2.2 2.3 2.4 2.5 2.6 2.7 2.8 2.9 3.  3.1 3.2 3.3 3.4 3.5\n",
      " 3.6 3.7 3.8 3.9 4.  4.1 4.2 4.3 4.4 4.5 4.6 4.7 4.8 4.9 5.  5.1 5.2 5.3\n",
      " 5.4 5.5 5.6 5.7 5.8 5.9 6.  6.1 6.2 6.3 6.4 6.5 6.6 6.7 6.8 6.9 7.  7.1\n",
      " 7.2 7.3 7.4 7.5 7.6 7.7 7.8 7.9 8.  8.1 8.2 8.3 8.4 8.5 8.6 8.7 8.8 8.9\n",
      " 9.  9.1 9.2 9.3 9.4]\n",
      "y:  [ 0.          0.09983342  0.19866933  0.29552021  0.38941834  0.47942554\n",
      "  0.56464247  0.64421769  0.71735609  0.78332691  0.84147098  0.89120736\n",
      "  0.93203909  0.96355819  0.98544973  0.99749499  0.9995736   0.99166481\n",
      "  0.97384763  0.94630009  0.90929743  0.86320937  0.8084964   0.74570521\n",
      "  0.67546318  0.59847214  0.51550137  0.42737988  0.33498815  0.23924933\n",
      "  0.14112001  0.04158066 -0.05837414 -0.15774569 -0.2555411  -0.35078323\n",
      " -0.44252044 -0.52983614 -0.61185789 -0.68776616 -0.7568025  -0.81827711\n",
      " -0.87157577 -0.91616594 -0.95160207 -0.97753012 -0.993691   -0.99992326\n",
      " -0.99616461 -0.98245261 -0.95892427 -0.92581468 -0.88345466 -0.83226744\n",
      " -0.77276449 -0.70554033 -0.63126664 -0.55068554 -0.46460218 -0.37387666\n",
      " -0.2794155  -0.1821625  -0.0830894   0.0168139   0.1165492   0.21511999\n",
      "  0.31154136  0.40484992  0.49411335  0.57843976  0.6569866   0.72896904\n",
      "  0.79366786  0.85043662  0.8987081   0.93799998  0.96791967  0.98816823\n",
      "  0.99854335  0.99894134  0.98935825  0.96988981  0.94073056  0.90217183\n",
      "  0.85459891  0.79848711  0.7343971   0.66296923  0.58491719  0.50102086\n",
      "  0.41211849  0.31909836  0.22288991  0.12445442  0.02477543]\n"
     ]
    }
   ],
   "source": [
    "print('x: ', x)\n",
    "print('y: ', y)"
   ]
  },
  {
   "cell_type": "code",
   "execution_count": 121,
   "id": "122668f1",
   "metadata": {},
   "outputs": [
    {
     "data": {
      "image/png": "[encoded data removed]",
      "text/plain": [
       "<Figure size 432x288 with 1 Axes>"
      ]
     },
     "metadata": {
      "needs_background": "light"
     },
     "output_type": "display_data"
    }
   ],
   "source": [
    "# พลอตจุด x, y\n",
    "plt.plot(x, y)\n",
    "plt.show()  "
   ]
  },
  {
   "cell_type": "markdown",
   "id": "16cacd27",
   "metadata": {},
   "source": [
    "## 2. การพลอตข้อมูลในรูปแบบกราฟเส้นแบบ 2 มิติรวมกันสองเส้นในกราฟเดียว"
   ]
  },
  {
   "cell_type": "code",
   "execution_count": 122,
   "id": "228ac198",
   "metadata": {},
   "outputs": [],
   "source": [
    "import numpy as np\n",
    "import matplotlib.pyplot as plt"
   ]
  },
  {
   "cell_type": "code",
   "execution_count": 124,
   "id": "83411027",
   "metadata": {},
   "outputs": [],
   "source": [
    "x = np.arange(0, 3 * np.pi, 0.1)\n",
    "y_sin = np.sin(x) # ค่าที่ 1\n",
    "y_cos = np.cos(x) #ค่าที่ 2"
   ]
  },
  {
   "cell_type": "code",
   "execution_count": 127,
   "id": "c4da6ef9",
   "metadata": {},
   "outputs": [
    {
     "data": {
      "image/png": "[encoded data removed]",
      "text/plain": [
       "<Figure size 432x288 with 1 Axes>"
      ]
     },
     "metadata": {
      "needs_background": "light"
     },
     "output_type": "display_data"
    }
   ],
   "source": [
    "plt.plot(x, y_sin)\n",
    "plt.plot(x, y_cos)\n",
    "plt.xlabel('x axis label')\n",
    "plt.ylabel('y axis label')\n",
    "plt.title('Sine and Cosine')\n",
    "plt.legend(['Sine', 'Cosine'])\n",
    "plt.show()"
   ]
  },
  {
   "cell_type": "markdown",
   "id": "f22cde6f",
   "metadata": {},
   "source": [
    "นิสิตลองเข้าไปดูรูปแบบการพลอตกราฟแบบต่างๆ ได้ที่ https://matplotlib.org/2.0.2/api/pyplot_api.html"
   ]
  },
  {
   "cell_type": "markdown",
   "id": "2f21e493",
   "metadata": {},
   "source": [
    "## 3. การพลอตหลายภาพ/หลายกราฟในภาพเดียว ที่เรียกว่า subplot"
   ]
  },
  {
   "cell_type": "code",
   "execution_count": 129,
   "id": "2bccd370",
   "metadata": {},
   "outputs": [],
   "source": [
    "import numpy as np\n",
    "import matplotlib.pyplot as plt"
   ]
  },
  {
   "cell_type": "code",
   "execution_count": 130,
   "id": "4015ee9c",
   "metadata": {},
   "outputs": [],
   "source": [
    "x = np.arange(0, 3 * np.pi, 0.1)\n",
    "y_sin = np.sin(x)\n",
    "y_cos = np.cos(x)"
   ]
  },
  {
   "cell_type": "code",
   "execution_count": 149,
   "id": "7e61e057",
   "metadata": {},
   "outputs": [
    {
     "data": {
      "image/png": "[encoded data removed]",
      "text/plain": [
       "<Figure size 432x288 with 3 Axes>"
      ]
     },
     "metadata": {
      "needs_background": "light"
     },
     "output_type": "display_data"
    }
   ],
   "source": [
    "# การพลอตภาพที่มี 3 ภาพย่อย มิติ 3 แถว x 1 หลัก  (*nrows*, *ncols*, *index*)\n",
    "plt.subplot(3, 1, 1) # 3 ตัวแรกคือจำนวนแถว, 1 ตัวที่สองคือจำนวนหลัก 1, ตัวสุดท้ายคือตำแหน่งภาพ\n",
    "plt.plot(x, y_sin)\n",
    "plt.title('Sine')\n",
    "\n",
    "plt.subplot(3, 1, 2) # 3 ตัวแรกคือจำนวนแถว, 1 ตัวที่สองคือจำนวนหลัก 2, ตัวสุดท้ายคือตำแหน่งภาพ\n",
    "plt.plot(x, y_cos)\n",
    "plt.title('Cosine')\n",
    "\n",
    "plt.subplot(3, 1, 3) # 3 ตัวแรกคือจำนวนแถว, 1 ตัวที่สองคือจำนวนหลัก 1, ตัวสุดท้ายคือตำแหน่งภาพ\n",
    "plt.plot(x, y_cos)\n",
    "plt.title('Cosine')\n",
    "\n",
    "plt.show()\n"
   ]
  },
  {
   "cell_type": "code",
   "execution_count": 150,
   "id": "90a5f008",
   "metadata": {},
   "outputs": [
    {
     "data": {
      "image/png": "[encoded data removed]",
      "text/plain": [
       "<Figure size 432x288 with 3 Axes>"
      ]
     },
     "metadata": {
      "needs_background": "light"
     },
     "output_type": "display_data"
    }
   ],
   "source": [
    "# การพลอตภาพที่มี 3 ภาพย่อย มิติ 1แถว x 3 หลัก (*nrows*, *ncols*, *index*)\n",
    "plt.subplot(1, 3, 1) # 3 ตัวแรกคือจำนวนแถว, 1 ตัวที่สองคือจำนวนหลัก 1, ตัวสุดท้ายคือตำแหน่งภาพ\n",
    "plt.plot(x, y_sin)\n",
    "plt.title('Sine')\n",
    "\n",
    "plt.subplot(1, 3, 2) # 3 ตัวแรกคือจำนวนแถว, 1 ตัวที่สองคือจำนวนหลัก 2, ตัวสุดท้ายคือตำแหน่งภาพ\n",
    "plt.plot(x, y_cos)\n",
    "plt.title('Cosine')\n",
    "\n",
    "plt.subplot(1, 3, 3) # 3 ตัวแรกคือจำนวนแถว, 1 ตัวที่สองคือจำนวนหลัก 1, ตัวสุดท้ายคือตำแหน่งภาพ\n",
    "plt.plot(x, y_cos)\n",
    "plt.title('Cosine')\n",
    "\n",
    "plt.show()\n",
    "\n"
   ]
  },
  {
   "cell_type": "markdown",
   "id": "5003b417",
   "metadata": {},
   "source": [
    "### นิสิตลองพลอต 2 แถว x 2 หลัก"
   ]
  },
  {
   "cell_type": "markdown",
   "id": "4705dc1a",
   "metadata": {},
   "source": [
    "## เล่น matplolib ต่อ\n",
    "แนะนำให้เรียนการใช้งาน matplotlib สอนโดน อาจารย์ประเสริฐ ตามลิงก์นี้ https://www.youtube.com/watch?v=WOEOH8OV99k&list=PLoTScYm9O0GGRvUsTmO8MQUkIuM1thTCf"
   ]
  },
  {
   "cell_type": "code",
   "execution_count": null,
   "id": "8d414d52",
   "metadata": {},
   "outputs": [],
   "source": []
  }
 ],
 "metadata": {
  "kernelspec": {
   "display_name": "Python 3 (ipykernel)",
   "language": "python",
   "name": "python3"
  },
  "language_info": {
   "codemirror_mode": {
    "name": "ipython",
    "version": 3
   },
   "file_extension": ".py",
   "mimetype": "text/x-python",
   "name": "python",
   "nbconvert_exporter": "python",
   "pygments_lexer": "ipython3",
   "version": "3.7.12"
  }
 },
 "nbformat": 4,
 "nbformat_minor": 5
}
