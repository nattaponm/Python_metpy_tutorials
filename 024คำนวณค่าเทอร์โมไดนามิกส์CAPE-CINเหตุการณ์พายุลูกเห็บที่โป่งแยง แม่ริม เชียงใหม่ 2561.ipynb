{
 "cells": [
  {
   "cell_type": "markdown",
   "id": "3eac0370",
   "metadata": {},
   "source": [
    "# คำนวณค่าเทอร์โมไดนามิกส์ LCL/LFC/EL/CAPE/CIN\n",
    "นิสิตจะได้เรียนรู้เกี่ยวกับการคำนวณค่าเทอร์โมไดนามิกส์ที่ได้จากการตรวจอากาศ upper air ที่ได้จาก radiosonde จากข้อมูลของ wyoming สถานีที่เลือกใช้ในที่นี้คือ VTCC หรือสนามบินเชียงใหม่ ในช่วงที่เกิดพายุฤดูร้อนที่มีลูกเห็บตกที่อำเภอแม่ริม โป่งแยง จังหวัดเชียงใหม่\n",
    "\n",
    "\n",
    "## Dr.kevin Perry จากมหาวิทยาลัย Utah สอนเรื่องบรรยากาศศาสตร์\n",
    "* ศึกษาเรื่อง CAPE ได้จาก Dr.Kevin Perry จากลิงก์ https://www.youtube.com/watch?v=jCfjZ4jJGT0\n",
    "* ศึกษาเรือง LCL ได้จาก Dr.Kevin Perry  จากลิงก์ https://www.youtube.com/watch?v=J9VUUZPMpbw\n",
    "* ศึกษาเรือง CIN (Convective inhibition) ได้จาก Dr.Kevin Perry ซึ่งเป็นค่าพลังงานที่ไม่ยอมให้ก้อนอากาศเกิดการยกตัว อ่าน https://en.wikipedia.org/wiki/Convective_inhibition\n",
    "    \n",
    "\n",
    "## ยูทูปชาแนลและแหล่งเรียนรู้ออนไลน์ที่นิสิตควรศึกษาทางด้านบรรยากาศศาสตร์ ได้แก่\n",
    "* Dr.kevin Perry จากมหาวิทยาลัย Utah สอนเรื่องบรรยากาศศาสตร์ https://www.youtube.com/channel/UCktw_bKshmipG9QH_pgMkLw/videos\n",
    "* Prof.Dr.Ronald Smith จากมหาวิทยาลัยYale เรื่องThe Atmosphere, the Ocean, and Environmental Change  https://oyc.yale.edu/geology-and-geophysics/gg-140\n",
    "* หนังสือฟรี อุตุนิยมวิทยาภาคปฏิบัติ สอนการคำนวณของ Prof.Roland Stull https://www.eoas.ubc.ca/books/Practical_Meteorology/\n"
   ]
  },
  {
   "cell_type": "markdown",
   "id": "a9c95c48",
   "metadata": {},
   "source": [
    "# 1. การคำนวณค่า  LCL/LFC/EL\n",
    "ใช้เหตุการณ์พายุฤดูร้อนที่เกิดในภาคเหนือของประเทศไทย ในช่วงปี 2561 เดือนเมษายน\n",
    "\n",
    "โค้ดจาก MetPy Monday https://www.youtube.com/watch?v=kGljsludKtk&list=PLQut5OXpV-0ir4IdllSt1iEZKTwFBa7kO&index=16"
   ]
  },
  {
   "cell_type": "code",
   "execution_count": 1,
   "id": "04d7f56a",
   "metadata": {},
   "outputs": [],
   "source": [
    "from datetime import datetime #datetime object\n",
    "from siphon.simplewebservice.wyoming import WyomingUpperAir\n"
   ]
  },
  {
   "cell_type": "code",
   "execution_count": 2,
   "id": "0fb6f618",
   "metadata": {},
   "outputs": [],
   "source": [
    "# ค้นหาข่าวพายุฤดูร้อนหรือพายุลูกเห็บในเชียงใหม่ เพื่อระบุวันที่มีเหตุการณ์รุนแรงดังกล่าว พบว่าช่วง 16-18 เมษายน 2561 มีพายุดังกล่าวเกิดในเชียงใหม่\n",
    "# ข่าวอ้างอิง https://www.khaosod.co.th/special-stories/news_965984  และ https://news.thaipbs.or.th/content/271711\n",
    "# อย่างไรก็ตาม ข้อมูล upper air ใช้ได้สองวันคือ 16 และ 18 เมษายน ส่วนวันที่ 17 เมษายน ดูเหมือนข้อมูลไม่สมบูรณ์\n",
    "\n",
    "date = datetime(2018, 4, 18, 0) #ข่าวอ้างอิง https://www.khaosod.co.th/special-stories/news_965984\n",
    "station = 'VTCC' #สถานีจ.เชียงใหม่ จากเวป https://weather.uwyo.edu/upperair/sounding.html  \n",
    "df = WyomingUpperAir.request_data(date, station) # ดึงข้อมูลตามวันเวลาและสถานีเข้ามาเก็บใน dataframe ของ pandas"
   ]
  },
  {
   "cell_type": "code",
   "execution_count": 4,
   "id": "fe21e19c",
   "metadata": {},
   "outputs": [],
   "source": [
    "from metpy.units import units\n",
    "# เก็บค่าอื่นๆ ที่ต้องใช้ในการคำนวณ\n",
    "p = df['pressure'].values * units(df.units['pressure'])\n",
    "T = df['temperature'].values * units(df.units['temperature'])\n",
    "Td = df['dewpoint'].values * units(df.units['dewpoint'])\n",
    "u = df['u_wind'].values * units(df.units['u_wind'])\n",
    "v = df['v_wind'].values * units(df.units['v_wind'])"
   ]
  },
  {
   "cell_type": "markdown",
   "id": "a1b6471b",
   "metadata": {},
   "source": [
    "## คำนวณค่า LCL (Lifted Condensation Level)\n"
   ]
  },
  {
   "cell_type": "code",
   "execution_count": 5,
   "id": "62aef802",
   "metadata": {},
   "outputs": [],
   "source": [
    "import metpy.calc as mpcalc #ใช้เพื่อคำนวณค่า"
   ]
  },
  {
   "cell_type": "code",
   "execution_count": 6,
   "id": "2ad5d02e",
   "metadata": {},
   "outputs": [
    {
     "data": {
      "text/plain": [
       "(array([925.27980711, 874.48268873, 883.05947139, 847.47099325,\n",
       "        747.69808675, 730.82490544, 653.41852578, 670.98641451,\n",
       "        671.73369774, 661.88016656, 580.93931285, 542.12383625,\n",
       "        602.66717231, 566.2566532 , 580.75115281, 456.14942957,\n",
       "        537.33740448, 518.48782549, 447.00879924, 394.98793435,\n",
       "        362.16113082, 330.75873028, 331.63803089, 373.73906218,\n",
       "        413.06265296, 382.71714056, 365.13869167, 336.78023731,\n",
       "        276.45872779, 168.25037648, 146.14902552, 145.19287457,\n",
       "                 nan,          nan,          nan,          nan,\n",
       "                 nan,          nan,          nan,          nan,\n",
       "                 nan,          nan,          nan,          nan,\n",
       "                 nan,          nan,          nan,          nan,\n",
       "                 nan,          nan,          nan,          nan,\n",
       "                 nan,          nan,          nan,          nan]) <Unit('hectopascal')>,\n",
       " array([ 18.82719652,  16.51453201,  18.22909392,  16.75308492,\n",
       "          9.63932963,   8.34115359,   1.28390791,   3.88340237,\n",
       "          4.70840837,   3.82446714,  -5.64502782,  -9.97346263,\n",
       "         -1.45499602,  -5.83879348,  -3.23695537, -18.52005941,\n",
       "         -5.99571421,  -7.43757123, -17.3691921 , -26.11377112,\n",
       "        -29.97321536, -35.64960176, -34.90216153, -25.49529834,\n",
       "        -16.76906906, -20.11343677, -22.0940518 , -26.57023316,\n",
       "        -38.11552805, -65.0837941 , -72.22796585, -71.9012475 ,\n",
       "                 nan,          nan,          nan,          nan,\n",
       "                 nan,          nan,          nan,          nan,\n",
       "                 nan,          nan,          nan,          nan,\n",
       "                 nan,          nan,          nan,          nan,\n",
       "                 nan,          nan,          nan,          nan,\n",
       "                 nan,          nan,          nan,          nan]) <Unit('degree_Celsius')>)"
      ]
     },
     "execution_count": 6,
     "metadata": {},
     "output_type": "execute_result"
    }
   ],
   "source": [
    "# ทดลองคำนวณ LCL ทุกระดับ\n",
    "mpcalc.lcl(p, T, Td) # shift+ tab เพื่อดู docstring"
   ]
  },
  {
   "cell_type": "markdown",
   "id": "6688e04f",
   "metadata": {},
   "source": [
    "สังเกตุว่า lcl เกิดขึ้นในระดับแรก จนทำให้ได้ผลค่า lcl ที่คำนวณได้ในแต่ละระดับ จนถึงระดับ EL นั่นคือ ให้ค่า nan"
   ]
  },
  {
   "cell_type": "code",
   "execution_count": 7,
   "id": "b795ffed",
   "metadata": {},
   "outputs": [
    {
     "data": {
      "text/plain": [
       "(925.2798071146326 <Unit('hectopascal')>,\n",
       " 18.827196521659857 <Unit('degree_Celsius')>)"
      ]
     },
     "execution_count": 7,
     "metadata": {},
     "output_type": "execute_result"
    }
   ],
   "source": [
    "# ดังนั้นทดลองคำนวณ LCL ในระดับแรก\n",
    "mpcalc.lcl(p[0], T[0], Td[0]) "
   ]
  },
  {
   "cell_type": "markdown",
   "id": "e2d2fc31",
   "metadata": {},
   "source": [
    "## คำนวณค่า LFC Level of Free Convection"
   ]
  },
  {
   "cell_type": "code",
   "execution_count": 8,
   "id": "692dc61a",
   "metadata": {},
   "outputs": [
    {
     "data": {
      "text/plain": [
       "(709.6179848101567 <Unit('hectopascal')>,\n",
       " 8.94342192797449 <Unit('degree_Celsius')>)"
      ]
     },
     "execution_count": 8,
     "metadata": {},
     "output_type": "execute_result"
    }
   ],
   "source": [
    "mpcalc.lfc(p, T, Td)"
   ]
  },
  {
   "cell_type": "markdown",
   "id": "6168ea41",
   "metadata": {},
   "source": [
    "ค่า LFC มีค่าอยู่ในระดับความกดที่สูงกว่าขึ้นไปเมื่อเทียบกับ LCL"
   ]
  },
  {
   "cell_type": "markdown",
   "id": "7a8ad837",
   "metadata": {},
   "source": [
    "## คำนวณค่า EL (Equilibrium level) ที่มีค่า bouyandcy เท่ากับบรรยากาศรอบข้าง"
   ]
  },
  {
   "cell_type": "code",
   "execution_count": 9,
   "id": "2ecc11da",
   "metadata": {},
   "outputs": [
    {
     "data": {
      "text/plain": [
       "(395.85490388535237 <Unit('hectopascal')>,\n",
       " -17.173593653573995 <Unit('degree_Celsius')>)"
      ]
     },
     "execution_count": 9,
     "metadata": {},
     "output_type": "execute_result"
    }
   ],
   "source": [
    "mpcalc.el(p, T, Td)"
   ]
  },
  {
   "cell_type": "markdown",
   "id": "ecae2523",
   "metadata": {},
   "source": [
    "ระดับความกดอากาศที่ 283.05hPa คือระดับที่เรียกว่า Equilibrium level ที่ทำให้ก้อนอากาศหรือ parcel ไม่มีการยกตัวขึ้นไปได้อีก"
   ]
  },
  {
   "cell_type": "markdown",
   "id": "46b36517",
   "metadata": {},
   "source": [
    "## 2.คำนวณค่า CAPE/CIN\n",
    "\n",
    "โค้ดจาก metpy monday https://www.youtube.com/watch?v=EJfsaPjQ1RU&list=PLQut5OXpV-0ir4IdllSt1iEZKTwFBa7kO&index=17"
   ]
  },
  {
   "cell_type": "code",
   "execution_count": 10,
   "id": "15bb56e2",
   "metadata": {},
   "outputs": [],
   "source": [
    "from datetime import datetime #datetime object\n",
    "from siphon.simplewebservice.wyoming import WyomingUpperAir"
   ]
  },
  {
   "cell_type": "code",
   "execution_count": 11,
   "id": "0462ae2e",
   "metadata": {},
   "outputs": [],
   "source": [
    "date = datetime(2018, 4, 16, 0) #ข่าวอ้างอิง https://www.khaosod.co.th/special-stories/news_965984\n",
    "station = 'VTCC' #สถานีจ.เชียงใหม่ จากเวป https://weather.uwyo.edu/upperair/sounding.html  \n",
    "df = WyomingUpperAir.request_data(date, station) # ดึงข้อมูลตามวันเวลาและสถานีเข้ามาเก็บใน dataframe ของ pandas"
   ]
  },
  {
   "cell_type": "code",
   "execution_count": 12,
   "id": "fb0839bf",
   "metadata": {},
   "outputs": [],
   "source": [
    "from metpy.units import units\n",
    "# เก็บค่าอื่นๆ ที่ต้องใช้ในการคำนวณ\n",
    "p = df['pressure'].values * units(df.units['pressure'])\n",
    "T = df['temperature'].values * units(df.units['temperature'])\n",
    "Td = df['dewpoint'].values * units(df.units['dewpoint'])\n",
    "heights = df['height'].values * units(df.units['height'])"
   ]
  },
  {
   "cell_type": "code",
   "execution_count": 13,
   "id": "022361c7",
   "metadata": {},
   "outputs": [],
   "source": [
    "import metpy.calc as mpcalc"
   ]
  },
  {
   "cell_type": "markdown",
   "id": "2960e650",
   "metadata": {},
   "source": [
    "## คำนวนค่า CAPE/CIN ของ parcel path"
   ]
  },
  {
   "cell_type": "markdown",
   "id": "80f6ede1",
   "metadata": {},
   "source": [
    "### หาค่าในกรณีที่ unstable air"
   ]
  },
  {
   "cell_type": "code",
   "execution_count": 14,
   "id": "41d086ef",
   "metadata": {},
   "outputs": [
    {
     "data": {
      "text/plain": [
       "(819.4006696516182 <Unit('joule / kilogram')>,\n",
       " -258.6196985527499 <Unit('joule / kilogram')>)"
      ]
     },
     "execution_count": 14,
     "metadata": {},
     "output_type": "execute_result"
    }
   ],
   "source": [
    "# หาค่าในกรณีที่ unstable air\n",
    "# shift+ tab เพื่อดู docstring\n",
    "mpcalc.surface_based_cape_cin(p, T, Td) "
   ]
  },
  {
   "cell_type": "markdown",
   "id": "e10defc0",
   "metadata": {},
   "source": [
    "### หาค่าในกรณีที่ most unstable air"
   ]
  },
  {
   "cell_type": "code",
   "execution_count": 82,
   "id": "5a4ed94e",
   "metadata": {},
   "outputs": [
    {
     "data": {
      "text/plain": [
       "(886.3230658366545 <Unit('joule / kilogram')>,\n",
       " -148.73276028974445 <Unit('joule / kilogram')>)"
      ]
     },
     "execution_count": 82,
     "metadata": {},
     "output_type": "execute_result"
    }
   ],
   "source": [
    "# หาค่าในกรณีที่ most unstable air\n",
    "# shift+ tab เพื่อดู docstring\n",
    "mpcalc.most_unstable_cape_cin(p, T, Td)"
   ]
  },
  {
   "cell_type": "markdown",
   "id": "5b673451",
   "metadata": {},
   "source": [
    "สังเกตุว่าค่า CAPE/CIN ใน most unstable air> unstable air"
   ]
  },
  {
   "cell_type": "markdown",
   "id": "60abc0ae",
   "metadata": {},
   "source": [
    "### หาค่า CAPE จากระดับ surface ไปจนถึงระดับความสูง 5 กิโลเมตร"
   ]
  },
  {
   "cell_type": "code",
   "execution_count": 15,
   "id": "184e17a5",
   "metadata": {},
   "outputs": [],
   "source": [
    "# หาค่า CAPE จากระดับ surface ไปจนถึงระดับความสูง 5 กิโลเมตร\n",
    "from metpy.units import units"
   ]
  },
  {
   "cell_type": "code",
   "execution_count": 17,
   "id": "f9f7ec23",
   "metadata": {
    "scrolled": true
   },
   "outputs": [],
   "source": [
    "# เริ่มคำนวณค่า p, T, Td  จากระดับพื้นผิวไปจนถึงระดับความสูง 5 กิโลเมตร  shift+ tab เพื่อดู docstring\n",
    "p, T, Td = mpcalc.get_layer(p, T, Td, height=heights, depth=5 * units.km) # 5 คือ 5 กิโลเมตรจากพื้นผิว"
   ]
  },
  {
   "cell_type": "code",
   "execution_count": 18,
   "id": "f3efe987",
   "metadata": {},
   "outputs": [
    {
     "data": {
      "text/html": [
       "<table><tbody><tr><th>Magnitude</th><td style='text-align:left;'><pre>[  314   443   772  1511  2024  3163  3319  3355  3563  4253  4864  5119<br>  5177  5235  5870  5901  6333  6632  6819  6905  7169  7331  7570  7589<br>  8494  8702  8852  9504  9670 10101 10858 10940 11985 12112 12440 12569<br> 13255 13542 13690 13842 14240 14655 14698 14956 15365 15605 16280 16447<br> 16620 17476 17600 17871 18127 18156 18266 18380 18459 18620 18704 18788<br> 18875 19141 19325 19516 19783 20183 20610 21261 21687 22388 22471 22692<br> 23183 23573 23780 23994 24216 24687 24885]</pre></td></tr><tr><th>Units</th><td style='text-align:left;'>meter</td></tr></tbody></table>"
      ],
      "text/latex": [
       "$\\begin{pmatrix}314 & 443 & 772 & 1511 & 2024 & 3163 & 3319 & 3355 & 3563 & 4253 & 4864 & 5119 & 5177 & 5235 & 5870 & 5901 & 6333 & 6632 & 6819 & 6905 & 7169 & 7331 & 7570 & 7589 & 8494 & 8702 & 8852 & 9504 & 9670 & 10101 & 10858 & 10940 & 11985 & 12112 & 12440 & 12569 & 13255 & 13542 & 13690 & 13842 & 14240 & 14655 & 14698 & 14956 & 15365 & 15605 & 16280 & 16447 & 16620 & 17476 & 17600 & 17871 & 18127 & 18156 & 18266 & 18380 & 18459 & 18620 & 18704 & 18788 & 18875 & 19141 & 19325 & 19516 & 19783 & 20183 & 20610 & 21261 & 21687 & 22388 & 22471 & 22692 & 23183 & 23573 & 23780 & 23994 & 24216 & 24687 & 24885\\end{pmatrix}\\ \\mathrm{meter}$"
      ],
      "text/plain": [
       "array([  314,   443,   772,  1511,  2024,  3163,  3319,  3355,  3563,\n",
       "        4253,  4864,  5119,  5177,  5235,  5870,  5901,  6333,  6632,\n",
       "        6819,  6905,  7169,  7331,  7570,  7589,  8494,  8702,  8852,\n",
       "        9504,  9670, 10101, 10858, 10940, 11985, 12112, 12440, 12569,\n",
       "       13255, 13542, 13690, 13842, 14240, 14655, 14698, 14956, 15365,\n",
       "       15605, 16280, 16447, 16620, 17476, 17600, 17871, 18127, 18156,\n",
       "       18266, 18380, 18459, 18620, 18704, 18788, 18875, 19141, 19325,\n",
       "       19516, 19783, 20183, 20610, 21261, 21687, 22388, 22471, 22692,\n",
       "       23183, 23573, 23780, 23994, 24216, 24687, 24885], dtype=int64) <Unit('meter')>"
      ]
     },
     "execution_count": 18,
     "metadata": {},
     "output_type": "execute_result"
    }
   ],
   "source": [
    "heights"
   ]
  },
  {
   "cell_type": "code",
   "execution_count": 19,
   "id": "2fe53c3e",
   "metadata": {},
   "outputs": [
    {
     "data": {
      "text/html": [
       "<table><tbody><tr><th>Magnitude</th><td style='text-align:left;'><pre>[974.0 960.0 925.0 850.0 801.0 700.0 687.0 684.0 667.0 613.0 568.0 550.0<br> 546.0 542.0 541.3499361398723]</pre></td></tr><tr><th>Units</th><td style='text-align:left;'>hectopascal</td></tr></tbody></table>"
      ],
      "text/latex": [
       "$\\begin{pmatrix}974.0 & 960.0 & 925.0 & 850.0 & 801.0 & 700.0 & 687.0 & 684.0 & 667.0 & 613.0 & 568.0 & 550.0 & 546.0 & 542.0 & 541.3499361398723\\end{pmatrix}\\ \\mathrm{hectopascal}$"
      ],
      "text/plain": [
       "array([974.        , 960.        , 925.        , 850.        ,\n",
       "       801.        , 700.        , 687.        , 684.        ,\n",
       "       667.        , 613.        , 568.        , 550.        ,\n",
       "       546.        , 542.        , 541.34993614]) <Unit('hectopascal')>"
      ]
     },
     "execution_count": 19,
     "metadata": {},
     "output_type": "execute_result"
    }
   ],
   "source": [
    "p"
   ]
  },
  {
   "cell_type": "markdown",
   "id": "bc13c2d7",
   "metadata": {},
   "source": [
    "สังเกตุว่าค่า p ที่ได้เป็นค่าความกดอากาศตั้งแต่ surface ถึงระดับความสูง 5 กิโลเมตร\n",
    "ต่อไปจะใช้ค่า p, T, Td  ที่ได้มานี้ นำไปคำนวณค่า cape/cin ที่ระดับ 5 กิโลเมตร"
   ]
  },
  {
   "cell_type": "code",
   "execution_count": 20,
   "id": "3b500962",
   "metadata": {},
   "outputs": [
    {
     "data": {
      "text/plain": [
       "(211.20705468108864 <Unit('joule / kilogram')>,\n",
       " -258.6196985527499 <Unit('joule / kilogram')>)"
      ]
     },
     "execution_count": 20,
     "metadata": {},
     "output_type": "execute_result"
    }
   ],
   "source": [
    "mpcalc.surface_based_cape_cin(p, T, Td)"
   ]
  },
  {
   "cell_type": "markdown",
   "id": "c191f0ac",
   "metadata": {},
   "source": [
    "## งานมอบหมายนิสิต \n",
    "1. ค้นหาข่าวพายุฤดูร้อนหรือพายุลูกเห็บในเชียงใหม่ เพื่อระบุวันที่มีเหตุการณ์รุนแรงดังกล่าว ให้นิสิตหาอย่างน้อยสองวัน หรือ สองเหตุการณ์\n",
    "2. พลอต skew-T/ logP เพื่อดูค่าเทอร์โมไดนามิกส์ CAPE/CIN/LCL/LFC/EL\n",
    "3. เปรียบเทียบค่า CAPE/CIN ที่คำนวณมาได้ของเหตุการณ์ทั้งสองวันที่เลือกมา ว่าวันไหนมีความรุนแรงมากกว่ากัน"
   ]
  },
  {
   "cell_type": "markdown",
   "id": "f4681f8a",
   "metadata": {},
   "source": [
    "## แนะนำแหล่งเรียนรู้เพิ่มเติม\n",
    "1. การทำแผนที่ LCL ทั่วทั้งอเมริกาจากข้อมูลเทอร์โมไดนามิกส์ ทำให้ทราบถึงฐานเมฆทั่วทั้งอเมริกาจากสถานีตรวจวัดทั่วพื้นที่ https://www.youtube.com/watch?v=Kayf2ZYGWM4&list=PLQut5OXpV-0ir4IdllSt1iEZKTwFBa7kO&index=180\n",
    "\n",
    "2.การทำแผนที่ instability ด้วยดัชนี showalter index ทำให้ทราบถึงศักยภาพในการก่อตัวของเมฆฝนฟ้าคะนองได้ทั่วทั้งพื้นที่อเมริกา https://www.youtube.com/watch?v=QZEUuuEAP-8&list=PLQut5OXpV-0ir4IdllSt1iEZKTwFBa7kO&index=203\n",
    "* นิสิตสามารถศึกษา instability indices ได้จากลิงก์นี้ http://www.zamg.ac.at/docu/Manual/SatManu/main.htm?/docu/Manual/SatManu/Basic/Convection/Parameters.htm\n",
    "* Dr.Kevin Perry อธิบายถึงค่าเทอร์โมไดนามิกส์ ร่วมกันกับดัชนี instability indices หลายตัวในยูทูป https://www.youtube.com/watch?v=CfHeXwNIJGY"
   ]
  },
  {
   "cell_type": "code",
   "execution_count": null,
   "id": "4aaa7c14",
   "metadata": {},
   "outputs": [],
   "source": []
  }
 ],
 "metadata": {
  "kernelspec": {
   "display_name": "Python 3 (ipykernel)",
   "language": "python",
   "name": "python3"
  },
  "language_info": {
   "codemirror_mode": {
    "name": "ipython",
    "version": 3
   },
   "file_extension": ".py",
   "mimetype": "text/x-python",
   "name": "python",
   "nbconvert_exporter": "python",
   "pygments_lexer": "ipython3",
   "version": "3.7.12"
  }
 },
 "nbformat": 4,
 "nbformat_minor": 5
}
