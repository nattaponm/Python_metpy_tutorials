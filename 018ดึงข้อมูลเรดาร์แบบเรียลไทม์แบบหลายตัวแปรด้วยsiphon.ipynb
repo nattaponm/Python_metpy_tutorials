{
 "cells": [
  {
   "cell_type": "markdown",
   "id": "72610ba0",
   "metadata": {},
   "source": [
    "## 1.เรดาร์เซิร์ฟเวอร์ ใช้เพื่อดึงข้อมูลเรดาร์เรียลไทม์ด้วยการใช้ siphon\n",
    "* โค้ดได้มาจาก MetPy monday ในยูทูป https://www.youtube.com/watch?v=shLrzh0uLWA&list=PLQut5OXpV-0ir4IdllSt1iEZKTwFBa7kO&index=22\n",
    "* จะใช้ Siphon ซึ่งเป็น collection of python unitilities ที่ใช้ดึงข้อมูลอุตุนิยมวิทยาแบบเรียลไทม์ ศึกษาจากเพจ https://unidata.github.io/siphon/latest/index.html\n",
    "* เวปไซต์แสดงการเข้าถึงเรดาร์ NEXRAD ในแต่ละโปรดักซ์ นิสิตสามารถศึกษาได้จากลิงก์นี้ https://www.ncei.noaa.gov/products/radar/next-generation-weather-radar\n",
    "* คำแนะนำก่อนเรียนแบบฝึกหัดนี้ นิสิตควรกลับไปศึกษาวีดีโอเพลย์ลิสสอนเรดาร์เบื้องต้นตามลิงก์นี้ https://www.youtube.com/watch?v=4s5pvvNPn1s&list=PL2e-NEAjUyLFXGMfse_JbL2T5TWh2YW-W และ สอนไพธอนเรดาร์ฺด้วย weradlib ลิงก์นี้ https://www.youtube.com/watch?v=7GLCJBoDFnQ&list=PL2e-NEAjUyLFlRjQ5fQBrX_8M-onbMQHf\n",
    "\n",
    "### นิสิตจะได้เรียนรู้\n",
    "* การดึงข้อมูลด้วย siphon\n",
    "* การดึงข้อมูลตัวแปรที่สำคัญของสถานีเรดาร์ NEXRAD level III\n",
    "* การดึงข้อมูลแบบหลายตัวแปรมาเก็บไว้ในลิสและดิกชันนารี เพื่อใช้ในการวิจัยหรือศึกษาปรากฏการณ์ต่อไป\n",
    "\n",
    "### แหล่งการเรียนรู้เรื่องเรดาร์และดาวเทียมทางด้านอุตุนิยมวิทยา\n",
    "* ผศ.ดร.นัฐพล มหาวิค สาขาภูมิศาสตร์ ม.นเรศวร สอนเรื่องเรดาร์ตรวจอากาศใช้ IDV ลิงก์ https://www.youtube.com/watch?v=4s5pvvNPn1s&list=PL2e-NEAjUyLFXGMfse_JbL2T5TWh2YW-W \n",
    "* ผศ.ดร.นัฐพล มหาวิค สาขาภูมิศาสตร์ ม.นเรศวร สอนเรื่องเรดาร์ตรวจอากาศใช้ภาษาไพธอน wradlib ลิงก์ https://www.youtube.com/watch?v=7GLCJBoDFnQ&list=PL2e-NEAjUyLFlRjQ5fQBrX_8M-onbMQHf\n",
    "* Dr.Kevin Perry จากมหาวิทยาลัยยูท่าห์ สอนเรื่องหลักการเรดาร์เบื้องต้น เป็นเลคเชอร์ที่มีประโยชน์มากในยูทูป https://www.youtube.com/watch?v=oCtOPVTt8kg&t=1858s\n",
    "* Dr.Kevin Perry จากมหาวิทยาลัยยูท่าห์ สอนเรื่องดาวเทียมอุตุนิยมวิทยา ดีมาก  https://www.youtube.com/watch?v=WK0NyUdnsqQ\n",
    "* หนังสือฟรี อุตุนิยมวิทยาภาคปฏิบัติ สอนการคำนวณของ Prof.Roland Stull https://www.eoas.ubc.ca/books/Practical_Meteorology/\n",
    "\n",
    "\n",
    "### แนะนำให้เรียน\n",
    "* วีดีโอสอนการดึงข้อมูล radar archive จาก NEXRAD AWS ซึ่งเป็นระบบคลาวด์สอนโดย MetPy Monday ลิงก์  https://www.youtube.com/watch?v=a2qAYVPRfrc&list=PLQut5OXpV-0ir4IdllSt1iEZKTwFBa7kO&index=132"
   ]
  },
  {
   "cell_type": "code",
   "execution_count": 1,
   "id": "472f6f37",
   "metadata": {},
   "outputs": [],
   "source": [
    "from siphon.catalog import TDSCatalog\n",
    "from siphon.radarserver import RadarServer"
   ]
  },
  {
   "cell_type": "code",
   "execution_count": 2,
   "id": "6ec74628",
   "metadata": {},
   "outputs": [],
   "source": [
    "# เก็บตัวแปรที่อยู่ที่จะใช้ดึงข้อมูล\n",
    "cat = TDSCatalog('http://thredds.ucar.edu/thredds/radarServer/catalog.xml')"
   ]
  },
  {
   "cell_type": "code",
   "execution_count": 3,
   "id": "f9ed02a3",
   "metadata": {},
   "outputs": [
    {
     "data": {
      "text/plain": [
       "['NEXRAD Level II Radar for Case Study CCS039',\n",
       " 'NEXRAD Level II Radar from IDD',\n",
       " 'NEXRAD Level III Radar for Case Study CCS039',\n",
       " 'NEXRAD Level III Radar from IDD',\n",
       " 'TDWR Level III Radar from IDD']"
      ]
     },
     "execution_count": 3,
     "metadata": {},
     "output_type": "execute_result"
    }
   ],
   "source": [
    "# ลิสข้อมูลจากแคตาล็อค ที่จะเป็นข้อมูลเรียลไทม์ที่สามารถดึงมาใช้ได้\n",
    "list(cat.catalog_refs)"
   ]
  },
  {
   "cell_type": "code",
   "execution_count": 4,
   "id": "5ca3aba5",
   "metadata": {},
   "outputs": [
    {
     "data": {
      "text/plain": [
       "'https://thredds.ucar.edu/thredds/radarServer/nexrad/level3/IDD/dataset.xml'"
      ]
     },
     "execution_count": 4,
     "metadata": {},
     "output_type": "execute_result"
    }
   ],
   "source": [
    "# get web address\n",
    "cat.catalog_refs['NEXRAD Level III Radar from IDD'].href\n",
    "\n",
    "# จะแสดงลิงก์ที่จะดึงข้อมูล"
   ]
  },
  {
   "cell_type": "code",
   "execution_count": 5,
   "id": "3fb0343e",
   "metadata": {},
   "outputs": [],
   "source": [
    "rs = RadarServer(cat.catalog_refs['NEXRAD Level III Radar from IDD'].href)"
   ]
  },
  {
   "cell_type": "code",
   "execution_count": 6,
   "id": "14765a30",
   "metadata": {},
   "outputs": [],
   "source": [
    "from datetime import datetime, timedelta"
   ]
  },
  {
   "cell_type": "code",
   "execution_count": 7,
   "id": "be84a704",
   "metadata": {},
   "outputs": [
    {
     "data": {
      "text/plain": [
       "var=N0Q&time_start=2022-04-18T02%3A13%3A33.392889&time_end=2022-04-18T03%3A13%3A33.392889&stn=FTG"
      ]
     },
     "execution_count": 7,
     "metadata": {},
     "output_type": "execute_result"
    }
   ],
   "source": [
    "# กำหนดช่วงเวลา สถานีเรดาร์ ข้อมูลที่ต้องการ ศึกษาโปรดักซ์เรดาร์ได้จาก https://www.ncei.noaa.gov/products/radar/next-generation-weather-radar\n",
    "query = rs.query()\n",
    "now = datetime.utcnow()\n",
    "\n",
    "# เลือกสถานี เลือกตัวแปรที่ต้องการนำมาแสดง เช่น ค่าการสะท้อน ค่า cc ค่า hydrometeor\n",
    "# เลือกภาพ 1 ชั่วโมงก่อนหน้าเวลาปัจจุบัน\n",
    "query.stations('FTG').time_range(now-timedelta(hours=1), now).variables('N0Q')  #N0Q คือ ค่าการสะท้อนมุมยกแรกที่เรียกว่า base reflectivity อ่านรายละเอียดจากเวปไซต์ข้างต้น\n",
    "\n"
   ]
  },
  {
   "cell_type": "code",
   "execution_count": 10,
   "id": "396efeff",
   "metadata": {},
   "outputs": [],
   "source": [
    "# ดึงข้อมูลที่เรียกใช้ข้อมูลมาเก็บไว้ในตัวแปร\n",
    "query_cat = rs.get_catalog(query)"
   ]
  },
  {
   "cell_type": "code",
   "execution_count": 13,
   "id": "9405619a",
   "metadata": {},
   "outputs": [
    {
     "data": {
      "text/plain": [
       "['Level3_FTG_N0Q_20220418_0218.nids',\n",
       " 'Level3_FTG_N0Q_20220418_0225.nids',\n",
       " 'Level3_FTG_N0Q_20220418_0231.nids',\n",
       " 'Level3_FTG_N0Q_20220418_0238.nids',\n",
       " 'Level3_FTG_N0Q_20220418_0245.nids',\n",
       " 'Level3_FTG_N0Q_20220418_0252.nids',\n",
       " 'Level3_FTG_N0Q_20220418_0259.nids',\n",
       " 'Level3_FTG_N0Q_20220418_0306.nids',\n",
       " 'Level3_FTG_N0Q_20220418_0313.nids']"
      ]
     },
     "execution_count": 13,
     "metadata": {},
     "output_type": "execute_result"
    }
   ],
   "source": [
    "sorted(query_cat.datasets)"
   ]
  },
  {
   "cell_type": "code",
   "execution_count": 15,
   "id": "3f991cec",
   "metadata": {},
   "outputs": [
    {
     "data": {
      "text/plain": [
       "['Level3_FTG_N0C_20220418_0218.nids',\n",
       " 'Level3_FTG_N0C_20220418_0225.nids',\n",
       " 'Level3_FTG_N0C_20220418_0231.nids',\n",
       " 'Level3_FTG_N0C_20220418_0238.nids',\n",
       " 'Level3_FTG_N0C_20220418_0245.nids',\n",
       " 'Level3_FTG_N0C_20220418_0252.nids',\n",
       " 'Level3_FTG_N0C_20220418_0259.nids',\n",
       " 'Level3_FTG_N0C_20220418_0306.nids',\n",
       " 'Level3_FTG_N0C_20220418_0313.nids',\n",
       " 'Level3_FTG_N0Q_20220418_0218.nids',\n",
       " 'Level3_FTG_N0Q_20220418_0225.nids',\n",
       " 'Level3_FTG_N0Q_20220418_0231.nids',\n",
       " 'Level3_FTG_N0Q_20220418_0238.nids',\n",
       " 'Level3_FTG_N0Q_20220418_0245.nids',\n",
       " 'Level3_FTG_N0Q_20220418_0252.nids',\n",
       " 'Level3_FTG_N0Q_20220418_0259.nids',\n",
       " 'Level3_FTG_N0Q_20220418_0306.nids',\n",
       " 'Level3_FTG_N0Q_20220418_0313.nids']"
      ]
     },
     "execution_count": 15,
     "metadata": {},
     "output_type": "execute_result"
    }
   ],
   "source": [
    "# ต่อไป สาธิตการดึงหลายตัวแปร มาภายในครั้งเดียว\n",
    "query.stations('FTG').time_range(now-timedelta(hours=1), now).variables('N0Q', 'N0C') #N0C เป็นค่า Correlation Coefficient (CC)\n",
    "query_cat = rs.get_catalog(query)\n",
    "sorted(query_cat.datasets)"
   ]
  },
  {
   "cell_type": "code",
   "execution_count": 16,
   "id": "01e141f7",
   "metadata": {},
   "outputs": [
    {
     "data": {
      "text/plain": [
       "['Level3_FTG_N0C_20220418_0218.nids',\n",
       " 'Level3_FTG_N0C_20220418_0225.nids',\n",
       " 'Level3_FTG_N0C_20220418_0231.nids',\n",
       " 'Level3_FTG_N0C_20220418_0238.nids',\n",
       " 'Level3_FTG_N0C_20220418_0245.nids',\n",
       " 'Level3_FTG_N0C_20220418_0252.nids',\n",
       " 'Level3_FTG_N0C_20220418_0259.nids',\n",
       " 'Level3_FTG_N0C_20220418_0306.nids',\n",
       " 'Level3_FTG_N0C_20220418_0313.nids',\n",
       " 'Level3_FTG_N0Q_20220418_0218.nids',\n",
       " 'Level3_FTG_N0Q_20220418_0225.nids',\n",
       " 'Level3_FTG_N0Q_20220418_0231.nids',\n",
       " 'Level3_FTG_N0Q_20220418_0238.nids',\n",
       " 'Level3_FTG_N0Q_20220418_0245.nids',\n",
       " 'Level3_FTG_N0Q_20220418_0252.nids',\n",
       " 'Level3_FTG_N0Q_20220418_0259.nids',\n",
       " 'Level3_FTG_N0Q_20220418_0306.nids',\n",
       " 'Level3_FTG_N0Q_20220418_0313.nids',\n",
       " 'Level3_INX_N0C_20220418_0216.nids',\n",
       " 'Level3_INX_N0C_20220418_0221.nids',\n",
       " 'Level3_INX_N0C_20220418_0224.nids',\n",
       " 'Level3_INX_N0C_20220418_0229.nids',\n",
       " 'Level3_INX_N0C_20220418_0233.nids',\n",
       " 'Level3_INX_N0C_20220418_0238.nids',\n",
       " 'Level3_INX_N0C_20220418_0241.nids',\n",
       " 'Level3_INX_N0C_20220418_0246.nids',\n",
       " 'Level3_INX_N0C_20220418_0250.nids',\n",
       " 'Level3_INX_N0C_20220418_0255.nids',\n",
       " 'Level3_INX_N0C_20220418_0259.nids',\n",
       " 'Level3_INX_N0C_20220418_0303.nids',\n",
       " 'Level3_INX_N0C_20220418_0307.nids',\n",
       " 'Level3_INX_N0C_20220418_0312.nids',\n",
       " 'Level3_INX_N0Q_20220418_0216.nids',\n",
       " 'Level3_INX_N0Q_20220418_0221.nids',\n",
       " 'Level3_INX_N0Q_20220418_0224.nids',\n",
       " 'Level3_INX_N0Q_20220418_0229.nids',\n",
       " 'Level3_INX_N0Q_20220418_0233.nids',\n",
       " 'Level3_INX_N0Q_20220418_0238.nids',\n",
       " 'Level3_INX_N0Q_20220418_0241.nids',\n",
       " 'Level3_INX_N0Q_20220418_0246.nids',\n",
       " 'Level3_INX_N0Q_20220418_0250.nids',\n",
       " 'Level3_INX_N0Q_20220418_0255.nids',\n",
       " 'Level3_INX_N0Q_20220418_0259.nids',\n",
       " 'Level3_INX_N0Q_20220418_0303.nids',\n",
       " 'Level3_INX_N0Q_20220418_0307.nids',\n",
       " 'Level3_INX_N0Q_20220418_0312.nids']"
      ]
     },
     "execution_count": 16,
     "metadata": {},
     "output_type": "execute_result"
    }
   ],
   "source": [
    "# ต่อไป สาธิตการดึงหลายตัวแปร จากหลายสถานี มาภายในครั้งเดียว\n",
    "query.stations('FTG', 'INX').time_range(now-timedelta(hours=1), now).variables('N0Q', 'N0C') #N0C เป็นค่า Correlation Coefficient (CC)\n",
    "query_cat = rs.get_catalog(query)\n",
    "sorted(query_cat.datasets)"
   ]
  },
  {
   "cell_type": "code",
   "execution_count": 19,
   "id": "d2908e3b",
   "metadata": {},
   "outputs": [],
   "source": [
    "# สาธิตการทำลิสของแคตาล็อค กรณีใช้หลายโปรดักซ์\n",
    "product_codes = ['N0Q', 'N0C', 'N0H'] # 'N0H' คือ Hydrometeor Classification (HC)\n",
    "query_catalogs = []\n",
    "for product_code in product_codes: # ลูปแต่ละโปรดักซ์\n",
    "    query.stations('FTG').time_range(now-timedelta(hours=1), now).variables(product_code) #ใช้ product_code ลูปที่ต้องการ \n",
    "    query_cat = rs.get_catalog(query) # ดึงแคตาลอคโปรดักซ์ที่ต้องการมาเก็บในตัวแปร\n",
    "    query_catalogs.append(query_cat) # เพิ่มแคตาลอคโปรดักซ์ที่้ดึงมาเข้าไปในตัวแปร query_catalogs\n"
   ]
  },
  {
   "cell_type": "code",
   "execution_count": 20,
   "id": "2e644c67",
   "metadata": {},
   "outputs": [
    {
     "data": {
      "text/plain": [
       "[Radar NEXRAD Level III Radar from IDD datasets in near real time,\n",
       " Radar NEXRAD Level III Radar from IDD datasets in near real time,\n",
       " Radar NEXRAD Level III Radar from IDD datasets in near real time]"
      ]
     },
     "execution_count": 20,
     "metadata": {},
     "output_type": "execute_result"
    }
   ],
   "source": [
    "query_catalogs"
   ]
  },
  {
   "cell_type": "code",
   "execution_count": 23,
   "id": "57fb2643",
   "metadata": {},
   "outputs": [],
   "source": [
    "# สาธิตการทำดิกชันนารีของแคตาล็อค กรณีใช้หลายโปรดักซ์\n",
    "product_codes = ['N0Q', 'N0C', 'N0H'] # 'N0H' คือ Hydrometeor Classification (HC)\n",
    "query_catalogs = dict()\n",
    "for product_code in product_codes: # ลูปแต่ละโปรดักซ์\n",
    "    query.stations('FTG').time_range(now-timedelta(hours=1), now).variables(product_code) #ใช้ product_code ลูปที่ต้องการ \n",
    "    query_cat = rs.get_catalog(query) # ดึงแคตาลอคโปรดักซ์ที่ต้องการมาเก็บในตัวแปร\n",
    "    query_catalogs[product_code] = query_cat # เพิ่มแคตาลอคโปรดักซ์ที่้ดึงมาเข้าไปในตัวแปร query_catalogs ในรูปแบบดิกชันนารี"
   ]
  },
  {
   "cell_type": "code",
   "execution_count": 24,
   "id": "39ae40f2",
   "metadata": {},
   "outputs": [
    {
     "data": {
      "text/plain": [
       "{'N0Q': Radar NEXRAD Level III Radar from IDD datasets in near real time,\n",
       " 'N0C': Radar NEXRAD Level III Radar from IDD datasets in near real time,\n",
       " 'N0H': Radar NEXRAD Level III Radar from IDD datasets in near real time}"
      ]
     },
     "execution_count": 24,
     "metadata": {},
     "output_type": "execute_result"
    }
   ],
   "source": [
    "query_catalogs"
   ]
  },
  {
   "cell_type": "code",
   "execution_count": 25,
   "id": "68a5c458",
   "metadata": {},
   "outputs": [
    {
     "data": {
      "text/plain": [
       "['Level3_FTG_N0C_20220418_0218.nids',\n",
       " 'Level3_FTG_N0C_20220418_0225.nids',\n",
       " 'Level3_FTG_N0C_20220418_0231.nids',\n",
       " 'Level3_FTG_N0C_20220418_0238.nids',\n",
       " 'Level3_FTG_N0C_20220418_0245.nids',\n",
       " 'Level3_FTG_N0C_20220418_0252.nids',\n",
       " 'Level3_FTG_N0C_20220418_0259.nids',\n",
       " 'Level3_FTG_N0C_20220418_0306.nids',\n",
       " 'Level3_FTG_N0C_20220418_0313.nids',\n",
       " 'Level3_FTG_N0H_20220418_0218.nids',\n",
       " 'Level3_FTG_N0H_20220418_0225.nids',\n",
       " 'Level3_FTG_N0H_20220418_0231.nids',\n",
       " 'Level3_FTG_N0H_20220418_0238.nids',\n",
       " 'Level3_FTG_N0H_20220418_0245.nids',\n",
       " 'Level3_FTG_N0H_20220418_0252.nids',\n",
       " 'Level3_FTG_N0H_20220418_0259.nids',\n",
       " 'Level3_FTG_N0H_20220418_0306.nids',\n",
       " 'Level3_FTG_N0H_20220418_0313.nids',\n",
       " 'Level3_FTG_N0Q_20220418_0218.nids',\n",
       " 'Level3_FTG_N0Q_20220418_0225.nids',\n",
       " 'Level3_FTG_N0Q_20220418_0231.nids',\n",
       " 'Level3_FTG_N0Q_20220418_0238.nids',\n",
       " 'Level3_FTG_N0Q_20220418_0245.nids',\n",
       " 'Level3_FTG_N0Q_20220418_0252.nids',\n",
       " 'Level3_FTG_N0Q_20220418_0259.nids',\n",
       " 'Level3_FTG_N0Q_20220418_0306.nids',\n",
       " 'Level3_FTG_N0Q_20220418_0313.nids']"
      ]
     },
     "execution_count": 25,
     "metadata": {},
     "output_type": "execute_result"
    }
   ],
   "source": [
    "# ยกตัวอย่างการเรียกดูค่าในดิกชันนารี\n",
    "sorted(query_catalogs['N0C'].datasets)"
   ]
  },
  {
   "cell_type": "code",
   "execution_count": null,
   "id": "d65e362f",
   "metadata": {},
   "outputs": [],
   "source": []
  }
 ],
 "metadata": {
  "kernelspec": {
   "display_name": "Python 3 (ipykernel)",
   "language": "python",
   "name": "python3"
  },
  "language_info": {
   "codemirror_mode": {
    "name": "ipython",
    "version": 3
   },
   "file_extension": ".py",
   "mimetype": "text/x-python",
   "name": "python",
   "nbconvert_exporter": "python",
   "pygments_lexer": "ipython3",
   "version": "3.7.12"
  }
 },
 "nbformat": 4,
 "nbformat_minor": 5
}
