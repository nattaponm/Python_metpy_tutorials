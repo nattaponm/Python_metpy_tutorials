{
 "cells": [
  {
   "cell_type": "markdown",
   "id": "ba38616a",
   "metadata": {},
   "source": [
    "# พลอตข้อมูลอุณหภูมิในแต่ละระดับความกดอากาศของพายุนาลแก ตุลาคม 2554\n",
    "*   ปี 2554 เป็นปีที่ประเทศไทยได้รับผลกระทบจากมหาอุทกภัย เนื่องจากเป็นปีที่มีปริมาณน้ำที่มากกว่าปีปรกติ โดยที่มีจำนวนพายุโซนร้อนเคลื่อนตัวเข้าสู่พื้นที่อินโดจีนที่รวมทั้้งประเทศไทยเป็นจำนวนหลายลูกมากกว่าปีปรกติ นอกจากนั้นยังมีอิทธิพลของร่องมรสุมที่พาดผ่านปรากฏในหลายช่วงเวลา ดังนั้นปี 2554 จึงเป็นปีที่เหมาะแก่การนำมาศึกษาทางด้านบรรยากาศวิทยา ให้นิสิตอ่านบันทึกเหตุการณ์มหาอุทกภัยปี 2554 http://tiwrmdev.hii.or.th/current/menu.html\n",
    "* ข้อมูล ERA5 daily จาก https://cds.climate.copernicus.eu/cdsapp#!/dataset/reanalysis-era5-pressure-levels?tab=overview\n",
    "* อ่านเอกสารตัวแปรจาก https://confluence.ecmwf.int/display/CKB/ERA5%3A+data+documentation\n",
    "* ERA5 มีความละเอียด 0.25 deg นั่นคือ ราวๆ 25 กิโลเมตรที่เส้นศูนย์สูตร\n",
    "\n",
    "### สิ่งที่นิสิตจะได้เรียนรู้\n",
    "* อธิบายข้อมูล ตัวแปร ที่ได้จาก ERA5 แบบรายชั่วโมงแต่เลือกเฉพาะ 00 UTC สาธิตการใช้ข้อมูล โดยเลือกวันที่ 2-5 ตุลาคม 2011 เพื่อดูพายุนาลแก \n",
    "* พลอตแผนที่อุณหภูมิในแต่ละระดับ เพื่อวิเคราะห์ความผันแปรของอุณหภูมิในแต่ละระดับความกดอากาศ\n",
    "* สกัดข้อมูลอุณหภูมิตามพิกัดภูมิศาสตร์และแต่ละระดับความกดอากาศที่ต้องการ เพื่อนำออกไปวิเคราะห์ต่อในโปรแกรมเช่น excel หรือ R \n",
    "\n",
    "#### ข้อมูล ERA5 เป็นข้อมูลทั้งโลก ดังนั้นการประมวลผลจะนาน หากนิสิตต้องการประมวลผลเฉพาะพื้นที่ที่นิสิตสนใจ เช่นอินโดจีนและบริเวณโดยรอบ นิสิตสามารถเลือกข้อมูลด้วยการ slice ซึ่งเป็นหลักการเลือกข้อมูลใน numpy แต่ในที่นี้ข้อมูลภูมิอากาศจะมีเรื่องมิติช่วงเวลามาด้วย ทำให้การใช้งาน numpy ไม่สะดวก ดังนั้นจึงใช้ไลบราลี่ xarray ที่สามารถ slice ข้อมูลที่มีค่า coordinate แบบ time ได้ด้วย นิสิตสามารถเรียนรู้ได้จากวีดีโอต่อไปนี้ https://www.youtube.com/watch?v=z5AyfTsJYKo&list=PLguMJ8gVmqXg5tS1MmNOfj_U06GMxKbZh&index=4 ซึ่งชาแนลนี้มีโค้ด snippet ที่มีตัวอย่างการใช้งานจริงหลายกรณีศึกษา นิสิตสามารถเรียนรู้และนำมาดัดแปลงได้\n",
    "\n",
    "\n",
    "### ยูทูปชาแนลและแหล่งเรียนรู้ออนไลน์ที่นิสิตควรศึกษาทางด้านบรรยากาศศาสตร์ ได้แก่\n",
    "* Dr.kevin Perry จากมหาวิทยาลัย Utah สอนเรื่องบรรยากาศศาสตร์ https://www.youtube.com/channel/UCktw_bKshmipG9QH_pgMkLw/videos\n",
    "* Prof.Dr.Ronald Smith จากมหาวิทยาลัยYale เรื่องThe Atmosphere, the Ocean, and Environmental Change https://oyc.yale.edu/geology-and-geophysics/gg-140\n",
    "* หนังสือฟรี อุตุนิยมวิทยาภาคปฏิบัติ สอนการคำนวณของ Prof.Roland Stull https://www.eoas.ubc.ca/books/Practical_Meteorology/"
   ]
  },
  {
   "cell_type": "markdown",
   "id": "7439c011",
   "metadata": {},
   "source": [
    "## 1.ทำความเข้าใจกับข้อมูล ERA5 ที่ได้ดาวน์โหลดมา"
   ]
  },
  {
   "cell_type": "code",
   "execution_count": 1,
   "id": "9210d07c",
   "metadata": {},
   "outputs": [],
   "source": [
    "#นำเข้าไลบราลี่\n",
    "import numpy as np\n",
    "import xarray as xr\n",
    "import matplotlib.pyplot as plt\n",
    "import pandas as pd\n",
    "%matplotlib inline"
   ]
  },
  {
   "cell_type": "code",
   "execution_count": 2,
   "id": "fe3f048f",
   "metadata": {
    "scrolled": true
   },
   "outputs": [
    {
     "ename": "FileNotFoundError",
     "evalue": "[Errno 2] No such file or directory: b'C:\\\\Users\\\\Admin\\\\jupyter_metpy\\\\era5_daily_2_5oct_2011_globe.nc'",
     "output_type": "error",
     "traceback": [
      "\u001b[1;31m---------------------------------------------------------------------------\u001b[0m",
      "\u001b[1;31mKeyError\u001b[0m                                  Traceback (most recent call last)",
      "\u001b[1;32m~\\anaconda3\\envs\\metpy\\lib\\site-packages\\xarray\\backends\\file_manager.py\u001b[0m in \u001b[0;36m_acquire_with_cache_info\u001b[1;34m(self, needs_lock)\u001b[0m\n\u001b[0;32m    198\u001b[0m             \u001b[1;32mtry\u001b[0m\u001b[1;33m:\u001b[0m\u001b[1;33m\u001b[0m\u001b[1;33m\u001b[0m\u001b[0m\n\u001b[1;32m--> 199\u001b[1;33m                 \u001b[0mfile\u001b[0m \u001b[1;33m=\u001b[0m \u001b[0mself\u001b[0m\u001b[1;33m.\u001b[0m\u001b[0m_cache\u001b[0m\u001b[1;33m[\u001b[0m\u001b[0mself\u001b[0m\u001b[1;33m.\u001b[0m\u001b[0m_key\u001b[0m\u001b[1;33m]\u001b[0m\u001b[1;33m\u001b[0m\u001b[1;33m\u001b[0m\u001b[0m\n\u001b[0m\u001b[0;32m    200\u001b[0m             \u001b[1;32mexcept\u001b[0m \u001b[0mKeyError\u001b[0m\u001b[1;33m:\u001b[0m\u001b[1;33m\u001b[0m\u001b[1;33m\u001b[0m\u001b[0m\n",
      "\u001b[1;32m~\\anaconda3\\envs\\metpy\\lib\\site-packages\\xarray\\backends\\lru_cache.py\u001b[0m in \u001b[0;36m__getitem__\u001b[1;34m(self, key)\u001b[0m\n\u001b[0;32m     52\u001b[0m         \u001b[1;32mwith\u001b[0m \u001b[0mself\u001b[0m\u001b[1;33m.\u001b[0m\u001b[0m_lock\u001b[0m\u001b[1;33m:\u001b[0m\u001b[1;33m\u001b[0m\u001b[1;33m\u001b[0m\u001b[0m\n\u001b[1;32m---> 53\u001b[1;33m             \u001b[0mvalue\u001b[0m \u001b[1;33m=\u001b[0m \u001b[0mself\u001b[0m\u001b[1;33m.\u001b[0m\u001b[0m_cache\u001b[0m\u001b[1;33m[\u001b[0m\u001b[0mkey\u001b[0m\u001b[1;33m]\u001b[0m\u001b[1;33m\u001b[0m\u001b[1;33m\u001b[0m\u001b[0m\n\u001b[0m\u001b[0;32m     54\u001b[0m             \u001b[0mself\u001b[0m\u001b[1;33m.\u001b[0m\u001b[0m_cache\u001b[0m\u001b[1;33m.\u001b[0m\u001b[0mmove_to_end\u001b[0m\u001b[1;33m(\u001b[0m\u001b[0mkey\u001b[0m\u001b[1;33m)\u001b[0m\u001b[1;33m\u001b[0m\u001b[1;33m\u001b[0m\u001b[0m\n",
      "\u001b[1;31mKeyError\u001b[0m: [<class 'netCDF4._netCDF4.Dataset'>, ('C:\\\\Users\\\\Admin\\\\jupyter_metpy\\\\era5_daily_2_5oct_2011_globe.nc',), 'r', (('clobber', True), ('diskless', False), ('format', 'NETCDF4'), ('persist', False))]",
      "\nDuring handling of the above exception, another exception occurred:\n",
      "\u001b[1;31mFileNotFoundError\u001b[0m                         Traceback (most recent call last)",
      "\u001b[1;32m~\\AppData\\Local\\Temp\\ipykernel_15420\\3515291651.py\u001b[0m in \u001b[0;36m<module>\u001b[1;34m\u001b[0m\n\u001b[0;32m      1\u001b[0m \u001b[1;31m#อ่านข้อมูล\u001b[0m\u001b[1;33m\u001b[0m\u001b[1;33m\u001b[0m\u001b[1;33m\u001b[0m\u001b[0m\n\u001b[1;32m----> 2\u001b[1;33m \u001b[0mdf\u001b[0m \u001b[1;33m=\u001b[0m \u001b[0mxr\u001b[0m\u001b[1;33m.\u001b[0m\u001b[0mopen_dataset\u001b[0m\u001b[1;33m(\u001b[0m\u001b[1;34m'era5_daily_2_5oct_2011_globe.nc'\u001b[0m\u001b[1;33m)\u001b[0m\u001b[1;33m\u001b[0m\u001b[1;33m\u001b[0m\u001b[0m\n\u001b[0m\u001b[0;32m      3\u001b[0m \u001b[0mprint\u001b[0m\u001b[1;33m(\u001b[0m\u001b[0mdf\u001b[0m\u001b[1;33m)\u001b[0m\u001b[1;33m\u001b[0m\u001b[1;33m\u001b[0m\u001b[0m\n",
      "\u001b[1;32m~\\anaconda3\\envs\\metpy\\lib\\site-packages\\xarray\\backends\\api.py\u001b[0m in \u001b[0;36mopen_dataset\u001b[1;34m(filename_or_obj, engine, chunks, cache, decode_cf, mask_and_scale, decode_times, decode_timedelta, use_cftime, concat_characters, decode_coords, drop_variables, backend_kwargs, *args, **kwargs)\u001b[0m\n\u001b[0;32m    497\u001b[0m         \u001b[0mdrop_variables\u001b[0m\u001b[1;33m=\u001b[0m\u001b[0mdrop_variables\u001b[0m\u001b[1;33m,\u001b[0m\u001b[1;33m\u001b[0m\u001b[1;33m\u001b[0m\u001b[0m\n\u001b[0;32m    498\u001b[0m         \u001b[1;33m**\u001b[0m\u001b[0mdecoders\u001b[0m\u001b[1;33m,\u001b[0m\u001b[1;33m\u001b[0m\u001b[1;33m\u001b[0m\u001b[0m\n\u001b[1;32m--> 499\u001b[1;33m         \u001b[1;33m**\u001b[0m\u001b[0mkwargs\u001b[0m\u001b[1;33m,\u001b[0m\u001b[1;33m\u001b[0m\u001b[1;33m\u001b[0m\u001b[0m\n\u001b[0m\u001b[0;32m    500\u001b[0m     )\n\u001b[0;32m    501\u001b[0m     ds = _dataset_from_backend_dataset(\n",
      "\u001b[1;32m~\\anaconda3\\envs\\metpy\\lib\\site-packages\\xarray\\backends\\netCDF4_.py\u001b[0m in \u001b[0;36mopen_dataset\u001b[1;34m(self, filename_or_obj, mask_and_scale, decode_times, concat_characters, decode_coords, drop_variables, use_cftime, decode_timedelta, group, mode, format, clobber, diskless, persist, lock, autoclose)\u001b[0m\n\u001b[0;32m    557\u001b[0m             \u001b[0mpersist\u001b[0m\u001b[1;33m=\u001b[0m\u001b[0mpersist\u001b[0m\u001b[1;33m,\u001b[0m\u001b[1;33m\u001b[0m\u001b[1;33m\u001b[0m\u001b[0m\n\u001b[0;32m    558\u001b[0m             \u001b[0mlock\u001b[0m\u001b[1;33m=\u001b[0m\u001b[0mlock\u001b[0m\u001b[1;33m,\u001b[0m\u001b[1;33m\u001b[0m\u001b[1;33m\u001b[0m\u001b[0m\n\u001b[1;32m--> 559\u001b[1;33m             \u001b[0mautoclose\u001b[0m\u001b[1;33m=\u001b[0m\u001b[0mautoclose\u001b[0m\u001b[1;33m,\u001b[0m\u001b[1;33m\u001b[0m\u001b[1;33m\u001b[0m\u001b[0m\n\u001b[0m\u001b[0;32m    560\u001b[0m         )\n\u001b[0;32m    561\u001b[0m \u001b[1;33m\u001b[0m\u001b[0m\n",
      "\u001b[1;32m~\\anaconda3\\envs\\metpy\\lib\\site-packages\\xarray\\backends\\netCDF4_.py\u001b[0m in \u001b[0;36mopen\u001b[1;34m(cls, filename, mode, format, group, clobber, diskless, persist, lock, lock_maker, autoclose)\u001b[0m\n\u001b[0;32m    377\u001b[0m             \u001b[0mnetCDF4\u001b[0m\u001b[1;33m.\u001b[0m\u001b[0mDataset\u001b[0m\u001b[1;33m,\u001b[0m \u001b[0mfilename\u001b[0m\u001b[1;33m,\u001b[0m \u001b[0mmode\u001b[0m\u001b[1;33m=\u001b[0m\u001b[0mmode\u001b[0m\u001b[1;33m,\u001b[0m \u001b[0mkwargs\u001b[0m\u001b[1;33m=\u001b[0m\u001b[0mkwargs\u001b[0m\u001b[1;33m\u001b[0m\u001b[1;33m\u001b[0m\u001b[0m\n\u001b[0;32m    378\u001b[0m         )\n\u001b[1;32m--> 379\u001b[1;33m         \u001b[1;32mreturn\u001b[0m \u001b[0mcls\u001b[0m\u001b[1;33m(\u001b[0m\u001b[0mmanager\u001b[0m\u001b[1;33m,\u001b[0m \u001b[0mgroup\u001b[0m\u001b[1;33m=\u001b[0m\u001b[0mgroup\u001b[0m\u001b[1;33m,\u001b[0m \u001b[0mmode\u001b[0m\u001b[1;33m=\u001b[0m\u001b[0mmode\u001b[0m\u001b[1;33m,\u001b[0m \u001b[0mlock\u001b[0m\u001b[1;33m=\u001b[0m\u001b[0mlock\u001b[0m\u001b[1;33m,\u001b[0m \u001b[0mautoclose\u001b[0m\u001b[1;33m=\u001b[0m\u001b[0mautoclose\u001b[0m\u001b[1;33m)\u001b[0m\u001b[1;33m\u001b[0m\u001b[1;33m\u001b[0m\u001b[0m\n\u001b[0m\u001b[0;32m    380\u001b[0m \u001b[1;33m\u001b[0m\u001b[0m\n\u001b[0;32m    381\u001b[0m     \u001b[1;32mdef\u001b[0m \u001b[0m_acquire\u001b[0m\u001b[1;33m(\u001b[0m\u001b[0mself\u001b[0m\u001b[1;33m,\u001b[0m \u001b[0mneeds_lock\u001b[0m\u001b[1;33m=\u001b[0m\u001b[1;32mTrue\u001b[0m\u001b[1;33m)\u001b[0m\u001b[1;33m:\u001b[0m\u001b[1;33m\u001b[0m\u001b[1;33m\u001b[0m\u001b[0m\n",
      "\u001b[1;32m~\\anaconda3\\envs\\metpy\\lib\\site-packages\\xarray\\backends\\netCDF4_.py\u001b[0m in \u001b[0;36m__init__\u001b[1;34m(self, manager, group, mode, lock, autoclose)\u001b[0m\n\u001b[0;32m    325\u001b[0m         \u001b[0mself\u001b[0m\u001b[1;33m.\u001b[0m\u001b[0m_group\u001b[0m \u001b[1;33m=\u001b[0m \u001b[0mgroup\u001b[0m\u001b[1;33m\u001b[0m\u001b[1;33m\u001b[0m\u001b[0m\n\u001b[0;32m    326\u001b[0m         \u001b[0mself\u001b[0m\u001b[1;33m.\u001b[0m\u001b[0m_mode\u001b[0m \u001b[1;33m=\u001b[0m \u001b[0mmode\u001b[0m\u001b[1;33m\u001b[0m\u001b[1;33m\u001b[0m\u001b[0m\n\u001b[1;32m--> 327\u001b[1;33m         \u001b[0mself\u001b[0m\u001b[1;33m.\u001b[0m\u001b[0mformat\u001b[0m \u001b[1;33m=\u001b[0m \u001b[0mself\u001b[0m\u001b[1;33m.\u001b[0m\u001b[0mds\u001b[0m\u001b[1;33m.\u001b[0m\u001b[0mdata_model\u001b[0m\u001b[1;33m\u001b[0m\u001b[1;33m\u001b[0m\u001b[0m\n\u001b[0m\u001b[0;32m    328\u001b[0m         \u001b[0mself\u001b[0m\u001b[1;33m.\u001b[0m\u001b[0m_filename\u001b[0m \u001b[1;33m=\u001b[0m \u001b[0mself\u001b[0m\u001b[1;33m.\u001b[0m\u001b[0mds\u001b[0m\u001b[1;33m.\u001b[0m\u001b[0mfilepath\u001b[0m\u001b[1;33m(\u001b[0m\u001b[1;33m)\u001b[0m\u001b[1;33m\u001b[0m\u001b[1;33m\u001b[0m\u001b[0m\n\u001b[0;32m    329\u001b[0m         \u001b[0mself\u001b[0m\u001b[1;33m.\u001b[0m\u001b[0mis_remote\u001b[0m \u001b[1;33m=\u001b[0m \u001b[0mis_remote_uri\u001b[0m\u001b[1;33m(\u001b[0m\u001b[0mself\u001b[0m\u001b[1;33m.\u001b[0m\u001b[0m_filename\u001b[0m\u001b[1;33m)\u001b[0m\u001b[1;33m\u001b[0m\u001b[1;33m\u001b[0m\u001b[0m\n",
      "\u001b[1;32m~\\anaconda3\\envs\\metpy\\lib\\site-packages\\xarray\\backends\\netCDF4_.py\u001b[0m in \u001b[0;36mds\u001b[1;34m(self)\u001b[0m\n\u001b[0;32m    386\u001b[0m     \u001b[1;33m@\u001b[0m\u001b[0mproperty\u001b[0m\u001b[1;33m\u001b[0m\u001b[1;33m\u001b[0m\u001b[0m\n\u001b[0;32m    387\u001b[0m     \u001b[1;32mdef\u001b[0m \u001b[0mds\u001b[0m\u001b[1;33m(\u001b[0m\u001b[0mself\u001b[0m\u001b[1;33m)\u001b[0m\u001b[1;33m:\u001b[0m\u001b[1;33m\u001b[0m\u001b[1;33m\u001b[0m\u001b[0m\n\u001b[1;32m--> 388\u001b[1;33m         \u001b[1;32mreturn\u001b[0m \u001b[0mself\u001b[0m\u001b[1;33m.\u001b[0m\u001b[0m_acquire\u001b[0m\u001b[1;33m(\u001b[0m\u001b[1;33m)\u001b[0m\u001b[1;33m\u001b[0m\u001b[1;33m\u001b[0m\u001b[0m\n\u001b[0m\u001b[0;32m    389\u001b[0m \u001b[1;33m\u001b[0m\u001b[0m\n\u001b[0;32m    390\u001b[0m     \u001b[1;32mdef\u001b[0m \u001b[0mopen_store_variable\u001b[0m\u001b[1;33m(\u001b[0m\u001b[0mself\u001b[0m\u001b[1;33m,\u001b[0m \u001b[0mname\u001b[0m\u001b[1;33m,\u001b[0m \u001b[0mvar\u001b[0m\u001b[1;33m)\u001b[0m\u001b[1;33m:\u001b[0m\u001b[1;33m\u001b[0m\u001b[1;33m\u001b[0m\u001b[0m\n",
      "\u001b[1;32m~\\anaconda3\\envs\\metpy\\lib\\site-packages\\xarray\\backends\\netCDF4_.py\u001b[0m in \u001b[0;36m_acquire\u001b[1;34m(self, needs_lock)\u001b[0m\n\u001b[0;32m    380\u001b[0m \u001b[1;33m\u001b[0m\u001b[0m\n\u001b[0;32m    381\u001b[0m     \u001b[1;32mdef\u001b[0m \u001b[0m_acquire\u001b[0m\u001b[1;33m(\u001b[0m\u001b[0mself\u001b[0m\u001b[1;33m,\u001b[0m \u001b[0mneeds_lock\u001b[0m\u001b[1;33m=\u001b[0m\u001b[1;32mTrue\u001b[0m\u001b[1;33m)\u001b[0m\u001b[1;33m:\u001b[0m\u001b[1;33m\u001b[0m\u001b[1;33m\u001b[0m\u001b[0m\n\u001b[1;32m--> 382\u001b[1;33m         \u001b[1;32mwith\u001b[0m \u001b[0mself\u001b[0m\u001b[1;33m.\u001b[0m\u001b[0m_manager\u001b[0m\u001b[1;33m.\u001b[0m\u001b[0macquire_context\u001b[0m\u001b[1;33m(\u001b[0m\u001b[0mneeds_lock\u001b[0m\u001b[1;33m)\u001b[0m \u001b[1;32mas\u001b[0m \u001b[0mroot\u001b[0m\u001b[1;33m:\u001b[0m\u001b[1;33m\u001b[0m\u001b[1;33m\u001b[0m\u001b[0m\n\u001b[0m\u001b[0;32m    383\u001b[0m             \u001b[0mds\u001b[0m \u001b[1;33m=\u001b[0m \u001b[0m_nc4_require_group\u001b[0m\u001b[1;33m(\u001b[0m\u001b[0mroot\u001b[0m\u001b[1;33m,\u001b[0m \u001b[0mself\u001b[0m\u001b[1;33m.\u001b[0m\u001b[0m_group\u001b[0m\u001b[1;33m,\u001b[0m \u001b[0mself\u001b[0m\u001b[1;33m.\u001b[0m\u001b[0m_mode\u001b[0m\u001b[1;33m)\u001b[0m\u001b[1;33m\u001b[0m\u001b[1;33m\u001b[0m\u001b[0m\n\u001b[0;32m    384\u001b[0m         \u001b[1;32mreturn\u001b[0m \u001b[0mds\u001b[0m\u001b[1;33m\u001b[0m\u001b[1;33m\u001b[0m\u001b[0m\n",
      "\u001b[1;32m~\\anaconda3\\envs\\metpy\\lib\\contextlib.py\u001b[0m in \u001b[0;36m__enter__\u001b[1;34m(self)\u001b[0m\n\u001b[0;32m    110\u001b[0m         \u001b[1;32mdel\u001b[0m \u001b[0mself\u001b[0m\u001b[1;33m.\u001b[0m\u001b[0margs\u001b[0m\u001b[1;33m,\u001b[0m \u001b[0mself\u001b[0m\u001b[1;33m.\u001b[0m\u001b[0mkwds\u001b[0m\u001b[1;33m,\u001b[0m \u001b[0mself\u001b[0m\u001b[1;33m.\u001b[0m\u001b[0mfunc\u001b[0m\u001b[1;33m\u001b[0m\u001b[1;33m\u001b[0m\u001b[0m\n\u001b[0;32m    111\u001b[0m         \u001b[1;32mtry\u001b[0m\u001b[1;33m:\u001b[0m\u001b[1;33m\u001b[0m\u001b[1;33m\u001b[0m\u001b[0m\n\u001b[1;32m--> 112\u001b[1;33m             \u001b[1;32mreturn\u001b[0m \u001b[0mnext\u001b[0m\u001b[1;33m(\u001b[0m\u001b[0mself\u001b[0m\u001b[1;33m.\u001b[0m\u001b[0mgen\u001b[0m\u001b[1;33m)\u001b[0m\u001b[1;33m\u001b[0m\u001b[1;33m\u001b[0m\u001b[0m\n\u001b[0m\u001b[0;32m    113\u001b[0m         \u001b[1;32mexcept\u001b[0m \u001b[0mStopIteration\u001b[0m\u001b[1;33m:\u001b[0m\u001b[1;33m\u001b[0m\u001b[1;33m\u001b[0m\u001b[0m\n\u001b[0;32m    114\u001b[0m             \u001b[1;32mraise\u001b[0m \u001b[0mRuntimeError\u001b[0m\u001b[1;33m(\u001b[0m\u001b[1;34m\"generator didn't yield\"\u001b[0m\u001b[1;33m)\u001b[0m \u001b[1;32mfrom\u001b[0m \u001b[1;32mNone\u001b[0m\u001b[1;33m\u001b[0m\u001b[1;33m\u001b[0m\u001b[0m\n",
      "\u001b[1;32m~\\anaconda3\\envs\\metpy\\lib\\site-packages\\xarray\\backends\\file_manager.py\u001b[0m in \u001b[0;36macquire_context\u001b[1;34m(self, needs_lock)\u001b[0m\n\u001b[0;32m    185\u001b[0m     \u001b[1;32mdef\u001b[0m \u001b[0macquire_context\u001b[0m\u001b[1;33m(\u001b[0m\u001b[0mself\u001b[0m\u001b[1;33m,\u001b[0m \u001b[0mneeds_lock\u001b[0m\u001b[1;33m=\u001b[0m\u001b[1;32mTrue\u001b[0m\u001b[1;33m)\u001b[0m\u001b[1;33m:\u001b[0m\u001b[1;33m\u001b[0m\u001b[1;33m\u001b[0m\u001b[0m\n\u001b[0;32m    186\u001b[0m         \u001b[1;34m\"\"\"Context manager for acquiring a file.\"\"\"\u001b[0m\u001b[1;33m\u001b[0m\u001b[1;33m\u001b[0m\u001b[0m\n\u001b[1;32m--> 187\u001b[1;33m         \u001b[0mfile\u001b[0m\u001b[1;33m,\u001b[0m \u001b[0mcached\u001b[0m \u001b[1;33m=\u001b[0m \u001b[0mself\u001b[0m\u001b[1;33m.\u001b[0m\u001b[0m_acquire_with_cache_info\u001b[0m\u001b[1;33m(\u001b[0m\u001b[0mneeds_lock\u001b[0m\u001b[1;33m)\u001b[0m\u001b[1;33m\u001b[0m\u001b[1;33m\u001b[0m\u001b[0m\n\u001b[0m\u001b[0;32m    188\u001b[0m         \u001b[1;32mtry\u001b[0m\u001b[1;33m:\u001b[0m\u001b[1;33m\u001b[0m\u001b[1;33m\u001b[0m\u001b[0m\n\u001b[0;32m    189\u001b[0m             \u001b[1;32myield\u001b[0m \u001b[0mfile\u001b[0m\u001b[1;33m\u001b[0m\u001b[1;33m\u001b[0m\u001b[0m\n",
      "\u001b[1;32m~\\anaconda3\\envs\\metpy\\lib\\site-packages\\xarray\\backends\\file_manager.py\u001b[0m in \u001b[0;36m_acquire_with_cache_info\u001b[1;34m(self, needs_lock)\u001b[0m\n\u001b[0;32m    203\u001b[0m                     \u001b[0mkwargs\u001b[0m \u001b[1;33m=\u001b[0m \u001b[0mkwargs\u001b[0m\u001b[1;33m.\u001b[0m\u001b[0mcopy\u001b[0m\u001b[1;33m(\u001b[0m\u001b[1;33m)\u001b[0m\u001b[1;33m\u001b[0m\u001b[1;33m\u001b[0m\u001b[0m\n\u001b[0;32m    204\u001b[0m                     \u001b[0mkwargs\u001b[0m\u001b[1;33m[\u001b[0m\u001b[1;34m\"mode\"\u001b[0m\u001b[1;33m]\u001b[0m \u001b[1;33m=\u001b[0m \u001b[0mself\u001b[0m\u001b[1;33m.\u001b[0m\u001b[0m_mode\u001b[0m\u001b[1;33m\u001b[0m\u001b[1;33m\u001b[0m\u001b[0m\n\u001b[1;32m--> 205\u001b[1;33m                 \u001b[0mfile\u001b[0m \u001b[1;33m=\u001b[0m \u001b[0mself\u001b[0m\u001b[1;33m.\u001b[0m\u001b[0m_opener\u001b[0m\u001b[1;33m(\u001b[0m\u001b[1;33m*\u001b[0m\u001b[0mself\u001b[0m\u001b[1;33m.\u001b[0m\u001b[0m_args\u001b[0m\u001b[1;33m,\u001b[0m \u001b[1;33m**\u001b[0m\u001b[0mkwargs\u001b[0m\u001b[1;33m)\u001b[0m\u001b[1;33m\u001b[0m\u001b[1;33m\u001b[0m\u001b[0m\n\u001b[0m\u001b[0;32m    206\u001b[0m                 \u001b[1;32mif\u001b[0m \u001b[0mself\u001b[0m\u001b[1;33m.\u001b[0m\u001b[0m_mode\u001b[0m \u001b[1;33m==\u001b[0m \u001b[1;34m\"w\"\u001b[0m\u001b[1;33m:\u001b[0m\u001b[1;33m\u001b[0m\u001b[1;33m\u001b[0m\u001b[0m\n\u001b[0;32m    207\u001b[0m                     \u001b[1;31m# ensure file doesn't get overriden when opened again\u001b[0m\u001b[1;33m\u001b[0m\u001b[1;33m\u001b[0m\u001b[1;33m\u001b[0m\u001b[0m\n",
      "\u001b[1;32msrc\\netCDF4\\_netCDF4.pyx\u001b[0m in \u001b[0;36mnetCDF4._netCDF4.Dataset.__init__\u001b[1;34m()\u001b[0m\n",
      "\u001b[1;32msrc\\netCDF4\\_netCDF4.pyx\u001b[0m in \u001b[0;36mnetCDF4._netCDF4._ensure_nc_success\u001b[1;34m()\u001b[0m\n",
      "\u001b[1;31mFileNotFoundError\u001b[0m: [Errno 2] No such file or directory: b'C:\\\\Users\\\\Admin\\\\jupyter_metpy\\\\era5_daily_2_5oct_2011_globe.nc'"
     ]
    }
   ],
   "source": [
    "#อ่านข้อมูล\n",
    "df = xr.open_dataset('era5_daily_2_5oct_2011_globe.nc')\n",
    "print(df)"
   ]
  },
  {
   "cell_type": "markdown",
   "id": "749b97f7",
   "metadata": {},
   "source": [
    "* สังเกตุค่า Dimensions, Coordinates, Data Variables, Attributes ที่เป็นโครงสร้างการจัดเก็บข้อมูลแบบ netCDF หรือ nc ที่อ่านได้จาก XArray\n",
    "* ตอนนี้ต้องการใช้ตัวแปร t นั่นคืออุณหภูมิ"
   ]
  },
  {
   "cell_type": "code",
   "execution_count": null,
   "id": "e3a11ea5",
   "metadata": {},
   "outputs": [],
   "source": [
    "lon_ = df.longitude\n",
    "lat_ = df.latitude\n",
    "time_  = df.time\n",
    "temp_  = df.t #อุณหภูมิ\n",
    "lev_ = df.level\n",
    "print(temp_.shape)"
   ]
  },
  {
   "cell_type": "code",
   "execution_count": null,
   "id": "b893a4d5",
   "metadata": {},
   "outputs": [],
   "source": [
    "print(time_)"
   ]
  },
  {
   "cell_type": "code",
   "execution_count": null,
   "id": "6751d394",
   "metadata": {},
   "outputs": [],
   "source": [
    "print(time_[0].values)"
   ]
  },
  {
   "cell_type": "code",
   "execution_count": null,
   "id": "5c7f0aab",
   "metadata": {},
   "outputs": [],
   "source": [
    "print(time_[-1].values)"
   ]
  },
  {
   "cell_type": "code",
   "execution_count": null,
   "id": "23cb8fdd",
   "metadata": {},
   "outputs": [],
   "source": [
    "print(lon_)"
   ]
  },
  {
   "cell_type": "code",
   "execution_count": null,
   "id": "37eb25c3",
   "metadata": {},
   "outputs": [],
   "source": [
    "print(lat_)"
   ]
  },
  {
   "cell_type": "code",
   "execution_count": null,
   "id": "758211fb",
   "metadata": {},
   "outputs": [],
   "source": [
    "print(lev_)"
   ]
  },
  {
   "cell_type": "code",
   "execution_count": null,
   "id": "4d1ab342",
   "metadata": {},
   "outputs": [],
   "source": [
    "# พลอตแผนที่แบบรวดเร็ว\n",
    "print(temp_.shape)\n",
    "temp_[0,0,:,:].plot()"
   ]
  },
  {
   "cell_type": "markdown",
   "id": "ef723056",
   "metadata": {},
   "source": [
    "## 2.พลอตแผนที่อุณหภูมิด้วยการเลือกช่วงเวลา"
   ]
  },
  {
   "cell_type": "code",
   "execution_count": null,
   "id": "e3ca1d0d",
   "metadata": {},
   "outputs": [],
   "source": [
    "temperature=temp_.sel(time='2011-10-02',level=850) # อุณหภูมิวันที่ 2 ตุลาคม"
   ]
  },
  {
   "cell_type": "code",
   "execution_count": null,
   "id": "9466584d",
   "metadata": {},
   "outputs": [],
   "source": [
    "temperature"
   ]
  },
  {
   "cell_type": "code",
   "execution_count": null,
   "id": "7fc62f8f",
   "metadata": {},
   "outputs": [],
   "source": [
    "temperature.shape"
   ]
  },
  {
   "cell_type": "code",
   "execution_count": null,
   "id": "8427060e",
   "metadata": {},
   "outputs": [],
   "source": [
    "temperature_2oct=temperature-273.15 #แปลงเคลวินเป็นเซลเซียส"
   ]
  },
  {
   "cell_type": "markdown",
   "id": "02d4cfc9",
   "metadata": {},
   "source": [
    "### พลอตแผนที่ทั้งโลกด้วยข้อมูลอุณหภูมิที่ระดับ 850 hPa"
   ]
  },
  {
   "cell_type": "code",
   "execution_count": null,
   "id": "d054c121",
   "metadata": {},
   "outputs": [],
   "source": [
    "## พลอตแผนที่ทั้งโลกอุณหภูมิของวันที่สนใจ ระดับความกดบรรยากาศ 850 hPa  \n",
    "import cartopy.crs as ccrs\n",
    "from cartopy.util import add_cyclic_point\n",
    "import cartopy.feature as cfeat\n",
    "\n",
    "plt.figure(figsize=(13,6.2))\n",
    "uw_cyc, lon_cyc = add_cyclic_point(temperature_2oct, coord=lon_) #Changing the longitude from 0º – 360º to -180 – 180 จาก https://geoclimatologyblog.wordpress.com/page/2/\n",
    "\n",
    "\n",
    "ax = plt.subplot(111, projection=ccrs.Robinson())\n",
    "#max_ = np.round((np.max(uw_cyc)))+2\n",
    "#min_ = np.round((np.min(uw_cyc)))\n",
    "max_ = 42\n",
    "min_ = -40\n",
    "vstep = 1.0\n",
    "levels = np.arange(min_, max_, vstep)\n",
    "temperature_ = ax.contourf(lon_cyc,\\\n",
    "                                 lat_,\\\n",
    "                                 uw_cyc,\\\n",
    "                                 levels,\\\n",
    "                                 transform=ccrs.PlateCarree(),\\\n",
    "                                 cmap='jet')\n",
    "\n",
    "\n",
    "ax.coastlines(resolution='110m', color='black', linewidth=1) #เพิ่มแนวชายฝั่งจาก pyplot\n",
    "ax.add_feature(cfeat.BORDERS, linestyle=':') #เพิ่มขอบเขตประเทศจาก cartopy\n",
    "\n",
    "#เซตค่าชื่อกริด การแสดงกริดเส้นโครง\n",
    "gl = ax.gridlines(draw_labels=True)\n",
    "gl.top_labels = False\n",
    "gl.right_labels = False\n",
    "\n",
    "#พลอต color bar\n",
    "# คำนวณมิติข้อมูล (height_of_image / width_of_image)\n",
    "im_ratio = uw_cyc.shape[0]/uw_cyc.shape[1]\n",
    "cbar = plt.colorbar(temperature_,fraction=0.047*im_ratio)\n",
    "cbar.set_label('[celcius]', fontsize=15)\n",
    "\n",
    "\n",
    "plt.title('Temperature of 2 October at 850 hPa (Celcius)', fontsize=15)\n",
    "plt.show()"
   ]
  },
  {
   "cell_type": "markdown",
   "id": "4748afa8",
   "metadata": {},
   "source": [
    "### พลอตแผนที่เฉพาะพื้นที่อินโดจีนและโดยรอบ ระดับความกดบรรยากาศ 850 hPa "
   ]
  },
  {
   "cell_type": "code",
   "execution_count": null,
   "id": "3dc9c0c9",
   "metadata": {},
   "outputs": [],
   "source": [
    "## พลอตแผนที่เฉพาะพื้นที่อินโดจีนและโดยรอบ ระดับความกดบรรยากาศ 850 hPa  \n",
    "import cartopy.crs as ccrs\n",
    "from cartopy.util import add_cyclic_point\n",
    "import cartopy.feature as cfeat\n",
    "\n",
    "plt.figure(figsize=(13,6.2))\n",
    "uw_cyc, lon_cyc = add_cyclic_point(temperature_2oct, coord=lon_) #Changing the longitude from 0º – 360º to -180 – 180 จาก https://geoclimatologyblog.wordpress.com/page/2/\n",
    "\n",
    "# กำหนดค่าเส้นโครงแผนที่\n",
    "mapcrs = ccrs.PlateCarree(central_longitude=100)\n",
    "\n",
    "# กำหนดค่าเส้นโครงแผนที่ของข้อมูล\n",
    "datacrs = ccrs.PlateCarree()\n",
    "\n",
    "ax = plt.subplot(111, projection=mapcrs)\n",
    "ax.set_extent([75, 125, 0, 40], ccrs.PlateCarree()) #กำหนดขอบเขตแผนที่\n",
    "#max_ = np.round((np.max(uw_cyc)))+2\n",
    "#min_ = np.round((np.min(uw_cyc)))\n",
    "max_ = 42\n",
    "min_ = -40\n",
    "vstep = 1.0\n",
    "levels = np.arange(min_, max_, vstep)\n",
    "temperature_ = ax.contourf(lon_cyc,\\\n",
    "                                 lat_,\\\n",
    "                                 uw_cyc,\\\n",
    "                                 levels,\\\n",
    "                                 transform=datacrs,\\\n",
    "                                 cmap='jet')\n",
    "\n",
    "ax.coastlines(resolution='110m', color='black', linewidth=1) #เพิ่มแนวชายฝั่งจาก pyplot\n",
    "ax.add_feature(cfeat.BORDERS, linestyle=':') #เพิ่มขอบเขตประเทศจาก cartopy\n",
    "\n",
    "#เซตค่าชื่อกริด การแสดงกริดเส้นโครง\n",
    "gl = ax.gridlines(draw_labels=True)\n",
    "gl.top_labels = False\n",
    "gl.right_labels = False\n",
    "\n",
    "#พลอต color bar\n",
    "# คำนวณมิติข้อมูล (height_of_image / width_of_image)\n",
    "im_ratio = uw_cyc.shape[0]/uw_cyc.shape[1]\n",
    "cbar = plt.colorbar(temperature_,fraction=0.047*im_ratio)\n",
    "cbar.set_label('[celcius]', fontsize=15)\n",
    "\n",
    "\n",
    "plt.title('Temperature of 2 October at 850 hPa (Celcius)', fontsize=15)\n",
    "plt.show()"
   ]
  },
  {
   "cell_type": "markdown",
   "id": "8d5c0416",
   "metadata": {},
   "source": [
    "#### งานมอบหมายนิสิต \n",
    "* ให้นิสิตทำการพลอตดูอุณหภูมิในแต่ละระดับ เพื่อเปรียบเทียบกัน 1000hPa, 925hPa, 850hPa, 500hPa, 200hPa แล้วสังเกตุถึงค่าอุณหภูมิในพื้นที่ที่สนใจ เช่นในแต่ละประเทศ"
   ]
  },
  {
   "cell_type": "markdown",
   "id": "77c1275e",
   "metadata": {},
   "source": [
    "## 3.สกัดค่าอุณหภูมิในแต่ละระดับความกดอากาศจากค่าพิกัดที่สนใจ"
   ]
  },
  {
   "cell_type": "code",
   "execution_count": null,
   "id": "6f6d53ef",
   "metadata": {
    "scrolled": true
   },
   "outputs": [],
   "source": [
    "temperature_2oct"
   ]
  },
  {
   "cell_type": "markdown",
   "id": "d4fe2b97",
   "metadata": {},
   "source": [
    "### สกัดค่าพิกัดจากค่าพิกัดภูมิศาสตร์"
   ]
  },
  {
   "cell_type": "code",
   "execution_count": null,
   "id": "3a2c8222",
   "metadata": {},
   "outputs": [],
   "source": [
    "# กำหนดค่าเส้นโครงแผนที่ของข้อมูล \n",
    "datacrs = ccrs.PlateCarree()\n",
    "\n",
    "# แปลงค่าจุดที่ต้องการสกัดค่าตัวแปรในแต่ละระดับเป็นแบบเส้นโครงแผนที่ Plate Carree for lat/lon grid เสมอ\n",
    "x, y = datacrs.transform_point(100, 15.0, src_crs=ccrs.PlateCarree())\n",
    "\n",
    "# สกัดค่าอุณหภูมิในแต่ละระดับความกดอากาศ\n",
    "temp_ext=temp_.sel(longitude=x, latitude=y) \n",
    "temp_ext[0,:]\n",
    "\n",
    "# นิสิตลองเปลี่ยนค่าพิกัดจาก ไปเป็น 100, 20 หรือพิกัดอำเภอบ้านของนิสิต"
   ]
  },
  {
   "cell_type": "code",
   "execution_count": null,
   "id": "c8391a20",
   "metadata": {},
   "outputs": [],
   "source": [
    "# พลอตกราฟ\n",
    "temp_ext[0,:].plot()  #0 คือวันที่ 2 ตุลาคม และ : คือให้พลอตทุกระดับความกดอากาศ"
   ]
  },
  {
   "cell_type": "code",
   "execution_count": null,
   "id": "b9522c39",
   "metadata": {},
   "outputs": [],
   "source": [
    "# พลอตกราฟ\n",
    "temp_ext[1,:].plot()  #1 คือวันที่ 3 ตุลาคม และ : คือให้พลอตทุกระดับความกดอากาศ"
   ]
  },
  {
   "cell_type": "markdown",
   "id": "1cbb0770",
   "metadata": {},
   "source": [
    "### ส่งออกข้อมูลอุณหภูมิวันที่ 2 ตุลาคมออกไปเป็น csv"
   ]
  },
  {
   "cell_type": "code",
   "execution_count": null,
   "id": "5fa9c47b",
   "metadata": {},
   "outputs": [],
   "source": [
    "#ส่งออกข้อมูลอุณหภูมิวันที่ 2 ตุลาคมออกไปเป็น csv วิธีการจาก https://bit.ly/3MaspPg\n",
    "temp_levs=temp_ext[0,:]\n",
    "temp_levs.shape"
   ]
  },
  {
   "cell_type": "code",
   "execution_count": null,
   "id": "d2782893",
   "metadata": {},
   "outputs": [],
   "source": [
    "# หากค่าอินเด็กซ์\n",
    "ind            = [ 200,  250,  300,  500,  700,  850,  925, 1000]\n",
    "# สร้างไพธอนดิกชันนารี\n",
    "our_dictionary = {'ind' : ind, 'temp': np.round(temp_levs,2)}\n",
    "df_out         = pd.DataFrame(our_dictionary, columns=['ind', 'temp'])\n",
    "# ส่งออกไปเป็นไฟล์  CSV\n",
    "export_csv     = df_out.to_csv('temperature.csv', index=None, header=True)\n",
    "\n",
    "# ให้นิสิตกลับไปดูโฟลเดอร์ที่เก็บไฟล์ jupyter ที่กำลังทำงานอยู่นี้ ของผมอยู่ที่ C:\\Users\\Admin\\jupyter_metpy\\metpy_youtube"
   ]
  },
  {
   "cell_type": "markdown",
   "id": "83fd1e9e",
   "metadata": {},
   "source": [
    "## อ่านข้อมูล CSV เข้ามาอีกครั้ง"
   ]
  },
  {
   "cell_type": "code",
   "execution_count": null,
   "id": "1dca3cc6",
   "metadata": {},
   "outputs": [],
   "source": [
    "# เปิด CSV file\n",
    "df_csv = pd.read_csv('temperature.csv')"
   ]
  },
  {
   "cell_type": "code",
   "execution_count": null,
   "id": "f4605465",
   "metadata": {},
   "outputs": [],
   "source": [
    "print(df_csv)"
   ]
  },
  {
   "cell_type": "markdown",
   "id": "223b898e",
   "metadata": {},
   "source": [
    "### งานมอบหมายให้นิสิตทำการทดลอง\n",
    "* 1.ให้นิสิตทำการสกัดค่าอุณหภูมิของวันที่ 2 ตุลาคม ในจังหวัดต่อไปนี้ พิษณุโลก เชียงใหม่ กรุงเทพ ขอนแก่น สงขลา โดยใช้ค่าพิกัดภูมิศาสตร์ แล้วทำการส่งออกไปเป็นนามสกุล CSV พร้อมกับพลอตกราฟเปรียบเทียบอภิปรายอุณหภูมิของพื้นที่ดังกล่าว\n",
    "* 2.ให้นิสิตสกัดค่าอุณหภูมิของวันที่2-5 ตุลาคม 2011 ด้วยการใช้พิกัดจากข้อแรกหนึ่งจังหวัดที่นิสิตสนใจ แล้วสกัดค่าอุณหภูมิในแต่ละระดับความกดอากาศ ส่งออกเป็น CSV แล้วพลอตกราฟในเอกเซล พร้อมอภิปรายเปรียบเทียบผลลัพธ์"
   ]
  },
  {
   "cell_type": "code",
   "execution_count": null,
   "id": "5d6a905e",
   "metadata": {},
   "outputs": [],
   "source": []
  }
 ],
 "metadata": {
  "kernelspec": {
   "display_name": "Python 3 (ipykernel)",
   "language": "python",
   "name": "python3"
  },
  "language_info": {
   "codemirror_mode": {
    "name": "ipython",
    "version": 3
   },
   "file_extension": ".py",
   "mimetype": "text/x-python",
   "name": "python",
   "nbconvert_exporter": "python",
   "pygments_lexer": "ipython3",
   "version": "3.7.12"
  }
 },
 "nbformat": 4,
 "nbformat_minor": 5
}
