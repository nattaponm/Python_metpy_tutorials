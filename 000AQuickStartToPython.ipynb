{
 "cells": [
  {
   "cell_type": "markdown",
   "id": "ad7ff4b4",
   "metadata": {},
   "source": [
    "# เรียนไพธอนฉบับย่อ\n",
    "* ติวเตอร์เรียลนี้จะแนะนำภาษาไพธอนอย่างย่อ ซึ่งจะนำไปทำความเข้าใจไลบราลี่ wradlib ที่ใช้ภาษาไพธอนได้ดีมากยิ่งขึ้น\n",
    "อย่างไรก็ดี นิสิตควรพัฒนาการเขียนโปรแกรมด้วยภาษาไพธอนให้ชำนาญ โดยมีแหล่งการเรียนรู้จากหลายแห่งเช่น ช่องยูทูป prasertcbs https://www.youtube.com/watch?v=bu6kwrpOqFM&list=PLoTScYm9O0GH4YQs9t4tf2RIYolHt_YwW หรือของกุเกิ้ล https://developers.google.com/edu/python เป็นต้น \n",
    "\n",
    "* ติวเตอร์เรียลนี้ได้ทำการแปลและดัดแปลงการสอนไพธอนฉบับย่อจากเวปไซต์ของ wardlib นิสิตสามารถเข้าไปศึกษาได้จากลิงค์ https://docs.wradlib.org/en/stable/notebooks/python/quickstart.html# \n",
    "\n",
    "*หมายเหตุ: สิ่งที่ต้องรู้ก่อนเรียนคือความรู้เรดาร์ตรวจอากาศเบื้องต้น สามารถศึกษาได้จากเพลย์ลิสนี้ https://www.youtube.com/watch?v=4s5pvvNPn1s&list=PL2e-NEAjUyLFXGMfse_JbL2T5TWh2YW-W  *\n",
    "\n",
    "\n",
    "### แหล่งเรียนรู้เพิ่มเติม\n",
    "* สอนไพธอน numpy matplotlib ของมหาวิทยาลัยสแตนฟอร์ด https://cs231n.github.io/python-numpy-tutorial/#jupyter-and-colab-notebooks"
   ]
  },
  {
   "cell_type": "code",
   "execution_count": 1,
   "id": "311ff60a",
   "metadata": {},
   "outputs": [
    {
     "name": "stdout",
     "output_type": "stream",
     "text": [
      "สวัสดีครับ\n"
     ]
    }
   ],
   "source": [
    "# hello world ทำการรันโดย shift+enter\n",
    "print(\"สวัสดีครับ\") "
   ]
  },
  {
   "cell_type": "markdown",
   "id": "fbe05b1c",
   "metadata": {},
   "source": [
    "## ชนิดข้อมูล\n",
    "ชนิดข้อมูลในไพธอนนั้นเป็นไปตามมาตรฐานข้อมูล อันได้แก่ integer, - float, - bool, และ str. นิสิตไม่จำเป็นที่จะต้องกำหนดชนิดข้อมูลให้กับตัวแปร โดยภาษาไพธอนจะกำหนดให้เองตามข้อมูลที่นิสิตประกาศค่า"
   ]
  },
  {
   "cell_type": "code",
   "execution_count": 4,
   "id": "704ef205",
   "metadata": {},
   "outputs": [
    {
     "name": "stdout",
     "output_type": "stream",
     "text": [
      "x1 คือตัวแปรชนิด <class 'int'>\n",
      "x2 คือตัวแปรชนิด <class 'float'>\n",
      "x3 คือตัวแปรชนิด <class 'bool'>\n",
      "x4 คือตัวแปรชนิด <class 'float'>\n",
      "x5 คือตัวแปรชนิด <class 'str'>\n"
     ]
    }
   ],
   "source": [
    "# type(ตัวแปร) อธิบายชนิดตัวแปร\n",
    "x1 = 2\n",
    "print(\"x1 คือตัวแปรชนิด %r\" % type(x1))\n",
    "\n",
    "x2 = 2.3\n",
    "print(\"x2 คือตัวแปรชนิด %r\" % type(x2))\n",
    "\n",
    "x3 = True\n",
    "print(\"x3 คือตัวแปรชนิด %r\" % type(x3))\n",
    "\n",
    "x4 = x1 * x2\n",
    "print(\"x4 คือตัวแปรชนิด %r\" % type(x4))\n",
    "\n",
    "x5 = \"Hello interpreted world.\"\n",
    "print(\"x5 คือตัวแปรชนิด %r\" % type(x5))"
   ]
  },
  {
   "cell_type": "code",
   "execution_count": 5,
   "id": "282293c5",
   "metadata": {},
   "outputs": [
    {
     "name": "stdout",
     "output_type": "stream",
     "text": [
      "<class 'builtin_function_or_method'>\n",
      "<class 'type'>\n"
     ]
    }
   ],
   "source": [
    "#ยังมีชนิดของข้อมูลไพธอนที่มากกว่าตัวอย่างด้านบน\n",
    "print( type(sum) )\n",
    "print( type(type) )"
   ]
  },
  {
   "cell_type": "markdown",
   "id": "0a7a303f",
   "metadata": {},
   "source": [
    "## ชนิดข้อมูลแบบ collections\n",
    "มีความสำคัญในภาษาไพธอนมากเรียกว่า data collections บางครั้งเรียกว่า containers ได้แก่\n",
    "* lists (list),\n",
    "\n",
    "* dictionaries (dict),\n",
    "\n",
    "* tuples (tuple)."
   ]
  },
  {
   "cell_type": "markdown",
   "id": "0eb0c439",
   "metadata": {},
   "source": [
    "### Lists\n",
    "list คือชุดข้อมูลที่สามารถเก็บข้อมูลที่มีชนิดที่ต่างกันได้"
   ]
  },
  {
   "cell_type": "code",
   "execution_count": 7,
   "id": "b33264a5",
   "metadata": {},
   "outputs": [
    {
     "name": "stdout",
     "output_type": "stream",
     "text": [
      "[1, 2, 3.0]\n",
      "[1, 2]\n"
     ]
    }
   ],
   "source": [
    "# a list\n",
    "A = [1, \"พิษณุโลก\", 3.0]\n",
    "\n",
    "# a list is \"mutable\"  สามารถเปลี่ยนหรือแทนที่ค่าในลิสได้\n",
    "A[1] = 2 #แทนค่าตำแหน่งที่ 1 ด้วยเลข 2  หมายเหตุ ในไพธอนตำแหน่งจะเริ่มที่ 0 เสมอ\n",
    "print(A)\n",
    "print(A[0:2]) #0:2 พิมพ์จากตำแหน่งที่ 0 แล้วนับไปสองตำแหน่ง 2 โดยให้นับตำแหน่งตัวเองด้วย"
   ]
  },
  {
   "cell_type": "markdown",
   "id": "fe6eb930",
   "metadata": {},
   "source": [
    "### Dictionaries\n",
    "Dictionaries ใช้เสมือนตารางที่สามารถอ้างอิงระหว่างค่า keys กับ ค่า values ได้ \n",
    "สามารถสร้าง Dictionaries ได้สองวิธีการด้วยกัน\n"
   ]
  },
  {
   "cell_type": "code",
   "execution_count": 9,
   "id": "a83863af",
   "metadata": {},
   "outputs": [
    {
     "name": "stdout",
     "output_type": "stream",
     "text": [
      "d1 เท่ากับ d2 ให้ค่าบูลีนเท่ากับ  True statement \n",
      "d1 มีชนิดข้อมูลเป็น <class 'dict'>\n"
     ]
    }
   ],
   "source": [
    "# วิธีแรกของการสร้าง  dictionary\n",
    "d1 = {\"band\": \"C\", \"altitude\":1000.}\n",
    "\n",
    "# วิธีที่สองของการสร้าง  dictionary\n",
    "d2 = dict(band=\"C\", altitude=1000.)\n",
    "\n",
    "# ทั้งสองวิธีการให้ผลลัพธ์ที่เหมือนกัน\n",
    "print(\"d1 เท่ากับ d2 ให้ค่าบูลีนเท่ากับ  %r statement \" % (d1 == d2) )\n",
    "print(\"d1 มีชนิดข้อมูลเป็น %r\" % type(d1) )"
   ]
  },
  {
   "cell_type": "code",
   "execution_count": 10,
   "id": "1d4ddf6c",
   "metadata": {},
   "outputs": [
    {
     "name": "stdout",
     "output_type": "stream",
     "text": [
      "C\n",
      "พิมพ์ค่า keys และ values ทั้งหมดของ d1:\n",
      "\tband: 'C'\n",
      "\taltitude: 1000.0\n"
     ]
    }
   ],
   "source": [
    "# สามารถใช้ค่าคีย์เวิร์ด keyword ในการสืบค้นค่าจาก dictionary นอกจากนั้นยังสามารถค้นหาหรือคำนวณวนซ้ำ iterate ได้อีกด้วยจากการใช้ keys\n",
    "print(d1[\"band\"])\n",
    "print(\"พิมพ์ค่า keys และ values ทั้งหมดของ d1:\")\n",
    "for key in d1.keys():\n",
    "    print(\"\\t%s: %r\" % (key, d1[key]) )"
   ]
  },
  {
   "cell_type": "markdown",
   "id": "00e3d4b2",
   "metadata": {},
   "source": [
    "## การควบคุมโปรแกรม Control flow¶\n",
    "การใช้วิธีการลูป หรือคำนวณแบบวนซ้ำ หรือการใช้เงื่อนไข เป็นหัวใจสำคัญในกระบวนการประมวลผล ในส่วนนี้จะกล่าวถึงการ syntax ที่สำคัญในการควบคุมการประมวลผล"
   ]
  },
  {
   "cell_type": "markdown",
   "id": "37fd91ab",
   "metadata": {},
   "source": [
    "### การใช้ for loops\n",
    "การย่อหน้าในภาษาไพธอน มีความสำคัญต่อ syntax อย่างมาก"
   ]
  },
  {
   "cell_type": "code",
   "execution_count": 11,
   "id": "f26536d2",
   "metadata": {},
   "outputs": [
    {
     "name": "stdout",
     "output_type": "stream",
     "text": [
      "0\n",
      "1\n",
      "2\n"
     ]
    }
   ],
   "source": [
    "# For loops\n",
    "for i in range(3):\n",
    "    print(i)"
   ]
  },
  {
   "cell_type": "markdown",
   "id": "d8e5cc85",
   "metadata": {},
   "source": [
    "### การใช้ while loops"
   ]
  },
  {
   "cell_type": "code",
   "execution_count": 13,
   "id": "5361395c",
   "metadata": {},
   "outputs": [
    {
     "name": "stdout",
     "output_type": "stream",
     "text": [
      "0\n",
      "1\n",
      "2\n"
     ]
    }
   ],
   "source": [
    "# ใช้ While loops ในกรณีที่ไม่ทราบจำนวนรอบของการวนซ้ำ หากเข้าเงื่อนไขก็ให้หยุดหรือให้ทำต่อไป\n",
    "i = 0\n",
    "while i < 3:\n",
    "    print(i)\n",
    "    i += 1"
   ]
  },
  {
   "cell_type": "markdown",
   "id": "03156861",
   "metadata": {},
   "source": [
    "### การใช้ Conditional statements¶\n"
   ]
  },
  {
   "cell_type": "code",
   "execution_count": 15,
   "id": "af0ebf88",
   "metadata": {},
   "outputs": [
    {
     "name": "stdout",
     "output_type": "stream",
     "text": [
      "a น้อยกว่า 10.\n"
     ]
    }
   ],
   "source": [
    "# Conditional statements\n",
    "a = 5\n",
    "if a < 10:\n",
    "    print(\"a น้อยกว่า 10.\")\n",
    "elif a == 10:\n",
    "    print(\"a เท่ากับ 10.\")\n",
    "else:\n",
    "    print(\"a มากกว่า 10.\")"
   ]
  },
  {
   "cell_type": "code",
   "execution_count": 16,
   "id": "672a5b0e",
   "metadata": {},
   "outputs": [
    {
     "name": "stdout",
     "output_type": "stream",
     "text": [
      "0\n"
     ]
    }
   ],
   "source": [
    "# การใช้ break สามารถที่จะหยุดการวนซ้ำก่อนเงื่อนไขหรือสามารถข้ามไปวนซ้ำอีกช่วงหนึ่งก็ได้ \n",
    "for i in range(3):\n",
    "    # ให้ออกจากลูปถ้าหากค่า i มีค่าเท่ากับ 1\n",
    "    if i == 1:\n",
    "        break\n",
    "    print(i)"
   ]
  },
  {
   "cell_type": "code",
   "execution_count": 17,
   "id": "be9f7374",
   "metadata": {},
   "outputs": [
    {
     "name": "stdout",
     "output_type": "stream",
     "text": [
      "0\n",
      "2\n"
     ]
    }
   ],
   "source": [
    "# การใช้ continue\n",
    "for i in range(3):\n",
    "    # เมื่อค่า i มีค่าเท่ากับ 1 ให้ข้ามการประมวลผลไป โดยที่ให้ทำการคำนวณต่อไป ด้วยการใช้ continue\n",
    "    if i == 1:\n",
    "        continue \n",
    "    print(i)"
   ]
  },
  {
   "cell_type": "markdown",
   "id": "0dad8ddb",
   "metadata": {},
   "source": [
    "## การ import ฟังก์ชันจากโมดูล\n",
    "* โมดูล module ทำหน้ารวบรวมฟังก์ชัน functions เอาไว้มากมายที่มีความเชื่อมโยงหรือเกี่ยวพันกัน หรือบางครั้งจะเรียกโมดูลว่าไลบราลี เมื่อทำการติดตั้งโปรแกรมเช่น Anaconda จะมีการติดตั้งโมดูลมาพร้อมกันกับภาษาไพธอน ที่นิสิตสามารถเรียกใช้ได้เลย อย่างไรก็ตามมีหลายโมดูลที่นิสิตต้องทำการติดตั้งเอง \n",
    "* เช่นเดียวกันกับ wradlib ที่เป็นไลบราบลีทางด้านการประมวลผลข้อมูลเรดาร์ตรวจอากาศ ที่ต้องทำการติดตั้งเองใน environment ของนิสิตเอง ด้วยคำสั่ง conda install wradlib\n",
    "* ต่อไปนี้เป็นตัวอย่างการเรียกใช้ฟังก์ชัน getcwd จากโมดูล os เพื่อที่จะทำให้ทราบถึง path ของไดเรกทอรีที่กำลังทำงานอยู่\n"
   ]
  },
  {
   "cell_type": "code",
   "execution_count": 18,
   "id": "4674eb74",
   "metadata": {},
   "outputs": [
    {
     "name": "stdout",
     "output_type": "stream",
     "text": [
      "C:\\Users\\Admin\\jupyter_notebook\n"
     ]
    }
   ],
   "source": [
    "import os\n",
    "mycwd = os.getcwd()\n",
    "print(mycwd)"
   ]
  },
  {
   "cell_type": "markdown",
   "id": "1e7d9694",
   "metadata": {},
   "source": [
    "### การใช้ help เพื่อดูคำอธิบายของการใช้ฟังก์ชัน\n"
   ]
  },
  {
   "cell_type": "code",
   "execution_count": 21,
   "id": "fd817c3f",
   "metadata": {},
   "outputs": [
    {
     "name": "stdout",
     "output_type": "stream",
     "text": [
      "Help on built-in function getcwd in module nt:\n",
      "\n",
      "getcwd()\n",
      "    Return a unicode string representing the current working directory.\n",
      "\n"
     ]
    }
   ],
   "source": [
    "help(os.getcwd)"
   ]
  },
  {
   "cell_type": "markdown",
   "id": "79e2e565",
   "metadata": {},
   "source": [
    "## การเขียนฟังก์ชันของเราขึ้นมาเอง\n",
    "การเขียนฟังก์ชันขึ้นมาใช้เอง จะช่วยให้สามารถนำโค้ดที่พัฒนาขึ้นมานั้น ไปใช้งานต่อได้ "
   ]
  },
  {
   "cell_type": "markdown",
   "id": "1d106de2",
   "metadata": {},
   "source": [
    "### 1. การสร้างฟังก์ชัน Define the function...\n"
   ]
  },
  {
   "cell_type": "code",
   "execution_count": 27,
   "id": "7ef138ff",
   "metadata": {},
   "outputs": [],
   "source": [
    "# การสร้างฟังก์ชัน \n",
    "def demofunction(a, b):\n",
    "    c = a + b\n",
    "    return(c)"
   ]
  },
  {
   "cell_type": "code",
   "execution_count": 26,
   "id": "85c2b90a",
   "metadata": {},
   "outputs": [
    {
     "data": {
      "text/plain": [
       "5"
      ]
     },
     "execution_count": 26,
     "metadata": {},
     "output_type": "execute_result"
    }
   ],
   "source": [
    "# การเรียกใช้ฟังก์ชัน\n",
    "demofunction(2,3)"
   ]
  },
  {
   "cell_type": "code",
   "execution_count": null,
   "id": "7bdd7a8e",
   "metadata": {},
   "outputs": [],
   "source": [
    "demofunction(2,3)"
   ]
  },
  {
   "cell_type": "markdown",
   "id": "207d1f0f",
   "metadata": {},
   "source": [
    "### 2.การสร้าง docstrings \n",
    "เพื่อใช้อธิบายว่าฟังก์ชันที่พัฒนาขึ้นนี้ใช้เพื่ออะไร ตัวแปรมีอะไรบ้าง ใช้ชนิดตัวแปรอะไร ให้ค่าผลลัพธ์อะไร"
   ]
  },
  {
   "cell_type": "code",
   "execution_count": 28,
   "id": "40625a4a",
   "metadata": {},
   "outputs": [],
   "source": [
    "def demofunction(a, b):\n",
    "    \"\"\"This function computes the sum of a and b.\n",
    "\n",
    "    Parameters\n",
    "    ----------\n",
    "    a : numeric\n",
    "    b : numeric\n",
    "\n",
    "    Returns\n",
    "    -------\n",
    "    output : numeric (the sum of a and b)\n",
    "\n",
    "    \"\"\"\n",
    "    c = a + b\n",
    "    return(c)"
   ]
  },
  {
   "cell_type": "code",
   "execution_count": 29,
   "id": "55f5fa2b",
   "metadata": {},
   "outputs": [
    {
     "name": "stdout",
     "output_type": "stream",
     "text": [
      "Help on function demofunction in module __main__:\n",
      "\n",
      "demofunction(a, b)\n",
      "    This function computes the sum of a and b.\n",
      "    \n",
      "    Parameters\n",
      "    ----------\n",
      "    a : numeric\n",
      "    b : numeric\n",
      "    \n",
      "    Returns\n",
      "    -------\n",
      "    output : numeric (the sum of a and b)\n",
      "\n"
     ]
    }
   ],
   "source": [
    "#เรียกดูฟังก์ชัน demofunction\n",
    "help(demofunction)"
   ]
  },
  {
   "cell_type": "markdown",
   "id": "6ad4901f",
   "metadata": {},
   "source": [
    "### 3.การตั้งค่าอาร์กูเมนท์ arguments ให้กับฟังก์ชัน \n",
    "ตัวอย่างต่อไปนี้ทำการตั้งค่า b ให้มีค่าตั้งต้นเท่ากับ 2"
   ]
  },
  {
   "cell_type": "code",
   "execution_count": 31,
   "id": "7369d19d",
   "metadata": {},
   "outputs": [],
   "source": [
    "def demofunction(a, b=2):\n",
    "    \"\"\"Adds 2 to a by default.\n",
    "    \"\"\"\n",
    "    c = a + b\n",
    "    return(c)"
   ]
  },
  {
   "cell_type": "code",
   "execution_count": 32,
   "id": "13070c53",
   "metadata": {},
   "outputs": [
    {
     "name": "stdout",
     "output_type": "stream",
     "text": [
      "5\n",
      "6\n"
     ]
    }
   ],
   "source": [
    "print(demofunction(3))\n",
    "print(demofunction(3, b=3))"
   ]
  },
  {
   "cell_type": "markdown",
   "id": "6a2153c6",
   "metadata": {},
   "source": [
    "## การอ่านไฟล์และการเซฟไฟล์ (file input/ output)\n",
    "ต่อไปนี้เป็นวิธีการเขียนไฟล์และการอ่านไฟล์ เป็นการอ่านจากไฟล์ฟอร์แมท text และไบนารี อย่างไรก็ดีข้อมูลเรดาร์มีฟอร์แมทที่หลากหลายและซับซ้อนมาก สามารถดูฟอร์แมทของเรดาร์ที่ wradlib สามารถอ่านได้จากลิงก์ https://docs.wradlib.org/en/stable/notebooks/fileio.html"
   ]
  },
  {
   "cell_type": "code",
   "execution_count": 34,
   "id": "1103fd18",
   "metadata": {},
   "outputs": [
    {
     "name": "stdout",
     "output_type": "stream",
     "text": [
      "<class '_io.TextIOWrapper'>\n"
     ]
    }
   ],
   "source": [
    "# เปิดไฟล์เพื่อทำการเขียน\n",
    "f = open('testfile.txt', 'w') # opens the workfile file\n",
    "print(type(f))\n",
    "f.write('This is a test line,\\nand another test line.\\n')\n",
    "f.close()"
   ]
  },
  {
   "cell_type": "code",
   "execution_count": 35,
   "id": "1d3b1110",
   "metadata": {},
   "outputs": [
    {
     "name": "stdout",
     "output_type": "stream",
     "text": [
      "This is a test line,\n",
      "and another test line.\n",
      "\n"
     ]
    }
   ],
   "source": [
    "# เปิดไฟล์เพื่อทำการอ่าน\n",
    "f = open('testfile.txt', 'r')\n",
    "s = f.read()\n",
    "print(s)\n",
    "f.close()"
   ]
  },
  {
   "cell_type": "markdown",
   "id": "0e2d0984",
   "metadata": {},
   "source": [
    "# การจัดการไฟล์ด้วยการใช้ with \n",
    "ในไพธอนหากนำ with statement มาใช้ในการจัดการไฟล์ จะช่วยให้มั่นใจได้ว่าไฟล์ที่เปิดมานั้น มีการปิดอย่างถูกต้อง หรือพูดอย่างง่ายคือ ป้องกันการลืมปิดไฟล์ f.close()"
   ]
  },
  {
   "cell_type": "code",
   "execution_count": 36,
   "id": "e615c926",
   "metadata": {},
   "outputs": [
    {
     "name": "stdout",
     "output_type": "stream",
     "text": [
      "This is a test line,\n",
      "and another test line.\n",
      "\n"
     ]
    }
   ],
   "source": [
    "with open(\"testfile.txt\") as f:\n",
    "    s = f.read()\n",
    "    print(s)"
   ]
  },
  {
   "cell_type": "markdown",
   "id": "2cce6d57",
   "metadata": {},
   "source": [
    "## สรุปสั้นๆ \n",
    "* ไพธอน เป็นภาษาคอมพิวเตอร์สมัยใหม่ที่นิสิตควรต้องพัฒนาต่อยอดให้เชี่ยวชาญ เนื่องจากมีแพคเกจที่พัฒนาด้วยภาษานี้เป็นจำนวนมาก จึงเป็นที่นิยมอย่างสูง โดยเฉพาะในงาน spatial data science ซึ่ง wradlib ก็ถูกพัฒนามาจากไพธอนเช่นกัน\n",
    "* Numpy เป็นอีกหนึ่งแพคเกจในภาษาไพธอน ที่ใช้เพื่อการจัดการข้อมูลหลายมิติ ซึ่งใช้อย่างมากใน wradlib นิสิตสามารถศึกษาต่อยอดได้จากลิงก์นี้ https://docs.wradlib.org/en/stable/notebooks/python/numpyintro.html โดยสามารถเรียนจากยูทูปในภาษาไทยได้จากลิงก์นี้ https://www.youtube.com/watch?v=ts2L5mtMMi8&list=PLoTScYm9O0GFNEpzsCBEnkUwgAwOu_PWw \n",
    "\n",
    "* Matplotlib เป็นอีกหนึ่งแพคเกจในภาษาไพธอน ที่มีการใช้อย่างมากใน wradlib เพื่อทำการพลอตข้อมูลแผนที่เรดาร์ นิสิตสามารถศึกษาต่อยอดได้จากลิงก์นี้ https://docs.wradlib.org/en/stable/notebooks/python/mplintro.html โดยสามารถเรียนจากยูทูปในภาษาไทยได้จากลิงก์นี้ https://www.youtube.com/watch?v=WOEOH8OV99k&list=PLoTScYm9O0GGRvUsTmO8MQUkIuM1thTCf\n",
    "\n",
    "* Scipy เป็นแพคเกจที่พัฒนาโดยไพธอน มีอัลกอริทึ่มที่สามารถนำมาใช้ในการประมวลผลข้อมูลได้เช่น optimization, regression, interpolation, etc ในปัจจุบันผู้ที่ทำงานด้าน spatial data science ต้องเข้าใจแพคเกจนี้ โดยเฉพาะงานทางด้านรีโมทเซนซิ่งที่ต้องใช้การจำแนกหรือ classification เป็นต้น นิสิตสามารถศึกษาต่อยอดได้จากลิงก์นี้ https://scipy.org/ \n",
    "\n",
    "* Scikit-learn เป็นประโยชน์ต่องานทางด้านการเรียนรู้เครื่อง machine learning อย่างมาก จะช่วยต่อยอดทางด้าน spatial data science สามารถศึกษาได้จากยูทูปภาษาไทยจากลิงก์นี้ https://www.youtube.com/watch?v=AdDvPCarDyI&list=PLoTScYm9O0GH_3VrwwnQafwWQ6ibKnEtU\n"
   ]
  },
  {
   "cell_type": "code",
   "execution_count": null,
   "id": "23ad3c25",
   "metadata": {},
   "outputs": [],
   "source": []
  },
  {
   "cell_type": "code",
   "execution_count": null,
   "id": "52cf486d",
   "metadata": {},
   "outputs": [],
   "source": []
  }
 ],
 "metadata": {
  "kernelspec": {
   "display_name": "Python 3 (ipykernel)",
   "language": "python",
   "name": "python3"
  },
  "language_info": {
   "codemirror_mode": {
    "name": "ipython",
    "version": 3
   },
   "file_extension": ".py",
   "mimetype": "text/x-python",
   "name": "python",
   "nbconvert_exporter": "python",
   "pygments_lexer": "ipython3",
   "version": "3.7.12"
  }
 },
 "nbformat": 4,
 "nbformat_minor": 5
}
